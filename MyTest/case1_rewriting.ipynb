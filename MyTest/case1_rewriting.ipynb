{
 "cells": [
  {
   "cell_type": "code",
   "execution_count": 25,
   "metadata": {},
   "outputs": [],
   "source": [
    "# Библиотеки\n",
    "\n",
    "from scipy.integrate import solve_ivp\n",
    "import numpy as np\n",
    "import matplotlib.pyplot as plt\n",
    "\n",
    "import torch \n",
    "import torch.optim as optim\n",
    "from torchdiffeq import odeint             # пока не понятно для чего"
   ]
  },
  {
   "cell_type": "code",
   "execution_count": null,
   "metadata": {},
   "outputs": [],
   "source": [
    "# Чтобы при вызове print или display после точки выводилось фиксированное число знаков\n",
    "\n",
    "np.set_printoptions(precision=5, suppress=True)"
   ]
  },
  {
   "cell_type": "code",
   "execution_count": 27,
   "metadata": {},
   "outputs": [],
   "source": [
    "# Переменные\n",
    "\n",
    "IS_RESTART = False\n",
    "P_CUTOFF = 0.0                                                     # Непонятно для чего\n",
    "N_EPOCH = 1000                                                     # Количество эпох. Максимальное\n",
    "N_PLOT = 100                                                       # Частота формирования графиков. Через сколько эпох\n",
    "\n",
    "# Есть большая вероятность, что нам не нужен будет OPT, и что строчку ниже нужно будет удалить\n",
    "OPT = optim.AdamW([torch.tensor(1.0)], lr=0.001, betas=(0.9, 0.999), eps=1e-8)          # Оптимизатор\n",
    "DATASIZE = 10                                                      # Размер датасетов?\n",
    "TSTEP = 1                                                          # Шаг времени для датасетов? или типа их количество?\n",
    "N_EXP_TRAIN = 6                                                    # Размер данных для обучения\n",
    "N_EXP_TEST = 2                                                     # Размер даных для теста\n",
    "N_EXP = N_EXP_TRAIN + N_EXP_TEST                                   # Общий размер данных\n",
    "NOISE = 5e-2                                                       # ШУМ\n",
    "NS = 5                                                             # Количество веществ\n",
    "NR = 4                                                             # Количество хим. реакций\n",
    "K = torch.tensor([0.1, 0.2, 0.13, 0.3], dtype=torch.float32)                                   # константы хим. реакций\n",
    "ATOL = 0.00001                                                     # Параметр точности для ОДУ\n",
    "RTOL = 0.01                                                        # Параметр точности для ОДУ\n",
    "\n",
    "MAXITERS = 10000                                                   # Не понял для чего нужно\n",
    "\n",
    "LB = 0.00001\n",
    "UB = 1\n"
   ]
  },
  {
   "cell_type": "code",
   "execution_count": null,
   "metadata": {},
   "outputs": [],
   "source": [
    "# u0_list = np.array([\n",
    "#     [0.2, 0.4, 0.0, 0.0, 0.0],\n",
    "#     [1.0, 0.7, 0.0, 0.0, 0.0],\n",
    "#     [0.8, 0.2, 0.0, 0.0, 0.0],\n",
    "#     [0.4, 0.2, 0.0, 0.0, 0.0],\n",
    "#     [0.4, 0.7, 0.0, 0.0, 0.0],\n",
    "#     [0.4, 0.6, 0.0, 0.0, 0.0],\n",
    "#     [0.7, 0.2, 0.0, 0.0, 0.0],\n",
    "#     [0.6, 1.1, 0.0, 0.0, 0.0]\n",
    "# ])\n",
    "\n",
    "u0_list = np.random.rand(N_EXP, NS).astype(np.float32)\n",
    "u0_list[:, 0:2] += 0.2\n",
    "u0_list[:, 2:] = 0.0\n",
    "\n",
    "tspan = [0.0, DATASIZE * TSTEP]\n",
    "tsteps = np.linspace(tspan[0], tspan[1], DATASIZE)               # возможно надо оставить просто DATASIZE\n",
    "ode_data_list = np.zeros((N_EXP, NS, DATASIZE), dtype=np.float32)\n",
    "\n",
    "\n",
    "std_list = []"
   ]
  },
  {
   "cell_type": "code",
   "execution_count": 6,
   "metadata": {},
   "outputs": [],
   "source": [
    "def true_ode_func(t, y, k):\n",
    "    \"\"\"\n",
    "    Вычисляет производные системы дифференциальных уравнений.\n",
    "    \n",
    "    Параметры:\n",
    "    t : float\n",
    "        Время (не используется в данном уравнении, но необходим для совместимости с solve_ivp).\n",
    "    y : array-like\n",
    "        Вектор переменных (y[0], y[1], ..., y[4]).\n",
    "    k : array-like\n",
    "        Коэффициенты (k[0], k[1], ..., k[4]).\n",
    "\n",
    "    Возвращает:\n",
    "    dydt : numpy.ndarray\n",
    "        Вектор производных.\n",
    "    \"\"\"\n",
    "    dydt = np.zeros_like(y)\n",
    "    dydt[0] = -2 * k[0] * y[0]**2 - k[1] * y[0]\n",
    "    dydt[1] = k[0] * y[0]**2 - k[3] * y[1] * y[3]\n",
    "    dydt[2] = k[1] * y[0] - k[2] * y[2]\n",
    "    dydt[3] = k[2] * y[2] - k[3] * y[1] * y[3]\n",
    "    dydt[4] = k[3] * y[1] * y[3]\n",
    "    return dydt\n"
   ]
  },
  {
   "cell_type": "code",
   "execution_count": null,
   "metadata": {},
   "outputs": [],
   "source": [
    "std_list = []\n",
    "\n",
    "for i in range(N_EXP):\n",
    "    u0 = u0_list[i, :]  # Начальные условия\n",
    "    # Решение\n",
    "    sol = solve_ivp(\n",
    "        true_ode_func,              # Функция ОДУ\n",
    "        tspan,                      # Интервал времени\n",
    "        u0,                         # Начальные условия\n",
    "        args=(K,),                  # Передача параметров в функцию\n",
    "        method='RK45',              # Метод решения\n",
    "        t_eval=tsteps               # Точки, в которых сохраняется решение (Шаг)\n",
    "    )\n",
    "    # Преобразование решения\n",
    "    ode_data = sol.y.T  # Транспонируем для согласования с форматом (в Julia это Array)\n",
    "    ode_data_list[:, i, :] = ode_data\n",
    "    std_list.append(np.max(ode_data, axis=1) - np.min(ode_data, axis=1) + LB)      # С добавлением шума\n",
    "    # std_list.append(np.max(ode_data, axis=0) - np.min(ode_data, axis=0))         # Без добавления шума\n",
    "\n",
    "# Вычисляем y_std\n",
    "std_matrix = np.column_stack(std_list)  # Аналог hcat в Julia\n",
    "y_std = np.max(std_matrix, axis=1)"
   ]
  },
  {
   "cell_type": "markdown",
   "metadata": {},
   "source": [
    "## Всё что выше, работает!"
   ]
  },
  {
   "cell_type": "code",
   "execution_count": 24,
   "metadata": {},
   "outputs": [
    {
     "name": "stdout",
     "output_type": "stream",
     "text": [
      "[0.35977 0.0684  0.15625 0.08478 0.08152]\n"
     ]
    },
    {
     "data": {
      "text/plain": [
       "[array([0.35977, 0.0684 , 0.15625, 0.08478, 0.08152]),\n",
       " array([1.12025, 0.20305, 0.38046, 0.14806, 0.26251]),\n",
       " array([0.92738, 0.11507, 0.33214, 0.20461, 0.15263]),\n",
       " array([0.54651, 0.07278, 0.22106, 0.14367, 0.09245]),\n",
       " array([0.54653, 0.11936, 0.22104, 0.09127, 0.14484]),\n",
       " array([0.54652, 0.11191, 0.22104, 0.09921, 0.1369 ]),\n",
       " array([0.83146, 0.10431, 0.30632, 0.19163, 0.13729]),\n",
       " array([0.73598, 0.17466, 0.2793 , 0.08452, 0.21487])]"
      ]
     },
     "metadata": {},
     "output_type": "display_data"
    },
    {
     "data": {
      "text/plain": [
       "array([1.12025, 0.20305, 0.38046, 0.20461, 0.26251])"
      ]
     },
     "metadata": {},
     "output_type": "display_data"
    }
   ],
   "source": [
    "print(std_list[0])\n",
    "display(std_list)\n",
    "\n",
    "display(y_std)\n",
    "# print()\n",
    "# print(ode_data_list)\n",
    "# print()\n",
    "# print(y_std)"
   ]
  }
 ],
 "metadata": {
  "kernelspec": {
   "display_name": "Ml_training",
   "language": "python",
   "name": "python3"
  },
  "language_info": {
   "codemirror_mode": {
    "name": "ipython",
    "version": 3
   },
   "file_extension": ".py",
   "mimetype": "text/x-python",
   "name": "python",
   "nbconvert_exporter": "python",
   "pygments_lexer": "ipython3",
   "version": "3.9.10"
  }
 },
 "nbformat": 4,
 "nbformat_minor": 2
}
