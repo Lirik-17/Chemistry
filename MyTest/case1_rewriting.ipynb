{
 "cells": [
  {
   "cell_type": "code",
   "execution_count": 26,
   "metadata": {},
   "outputs": [],
   "source": [
    "# Библиотеки\n",
    "\n",
    "from scipy.integrate import solve_ivp\n",
    "import numpy as np\n",
    "import matplotlib.pyplot as plt\n",
    "\n",
    "import torch \n",
    "import torch.optim as optim\n",
    "from torchdiffeq import odeint             # пока не понятно для чего"
   ]
  },
  {
   "cell_type": "code",
   "execution_count": 35,
   "metadata": {},
   "outputs": [],
   "source": [
    "# Переменные\n",
    "\n",
    "IS_RESTART = False\n",
    "P_CUTOFF = 0.0                                                     # Непонятно для чего\n",
    "N_EPOCH = 1000                                                     # Количество эпох. Максимальное\n",
    "N_PLOT = 100                                                       # Частота формирования графиков. Через сколько эпох\n",
    "\n",
    "# Есть большая вероятность, что нам не нужен будет OPT, и что строчку ниже нужно будет удалить\n",
    "OPT = optim.AdamW([torch.tensor(1.0)], lr=0.001, betas=(0.9, 0.999), eps=1e-8)          # Оптимизатор\n",
    "DATASIZE = 10                                                      # Размер датасетов?\n",
    "TSTEP = 1                                                          # Шаг времени для датасетов? или типа их количество?\n",
    "N_EXP_TRAIN = 6                                                    # Размер данных для обучения\n",
    "N_EXP_TEST = 2                                                     # Размер даных для теста\n",
    "N_EXP = N_EXP_TRAIN + N_EXP_TEST                                   # Общий размер данных\n",
    "NOISE = 5e-2                                                       # ШУМ\n",
    "NS = 5                                                             # Количество веществ\n",
    "NR = 4                                                             # Количество хим. реакций\n",
    "K = torch.tensor([0.1, 0.2, 0.13, 0.3], dtype=torch.float32)                                   # константы хим. реакций\n",
    "ATOL = 0.00001                                                     # Параметр точности для ОДУ\n",
    "RTOL = 0.01                                                        # Параметр точности для ОДУ\n",
    "\n",
    "MAXITERS = 10000                                                   # Не понял для чего нужно\n",
    "\n",
    "LB = 0.00001\n",
    "UB = 1\n"
   ]
  },
  {
   "cell_type": "code",
   "execution_count": 37,
   "metadata": {},
   "outputs": [],
   "source": [
    "u0_list = np.random.rand(N_EXP, NS).astype(np.float32)\n",
    "u0_list[:, 0:2] += 0.2\n",
    "u0_list[:, 2:] = 0.0\n",
    "tspan = [0.0, DATASIZE * TSTEP]\n",
    "tsteps = np.linspace(tspan[0], tspan[1], DATASIZE)               # возможно надо оставить просто DATASIZE\n",
    "ode_data_list = np.zeros((N_EXP, NS, DATASIZE), dtype=np.float32)\n",
    "\n",
    "dydt = np.zeros_like(NS)"
   ]
  },
  {
   "cell_type": "code",
   "execution_count": 38,
   "metadata": {},
   "outputs": [
    {
     "name": "stdout",
     "output_type": "stream",
     "text": [
      "[ 0.          1.11111111  2.22222222  3.33333333  4.44444444  5.55555556\n",
      "  6.66666667  7.77777778  8.88888889 10.        ]\n"
     ]
    }
   ],
   "source": [
    "print(tsteps)"
   ]
  },
  {
   "cell_type": "markdown",
   "metadata": {},
   "source": [
    "### Дальше пойдут функции"
   ]
  },
  {
   "cell_type": "code",
   "execution_count": 39,
   "metadata": {},
   "outputs": [],
   "source": [
    "def true_ode_func(t, y, k):\n",
    "    \"\"\"\n",
    "    Вычисляет производные системы дифференциальных уравнений.\n",
    "    \n",
    "    Параметры:\n",
    "    t : float\n",
    "        Время (не используется в данном уравнении, но необходим для совместимости с solve_ivp).\n",
    "    y : array-like\n",
    "        Вектор переменных (y[0], y[1], ..., y[4]).\n",
    "    k : array-like\n",
    "        Коэффициенты (k[0], k[1], ..., k[4]).\n",
    "\n",
    "    Возвращает:\n",
    "    dydt : numpy.ndarray\n",
    "        Вектор производных.\n",
    "    \"\"\"\n",
    "    dydt[0] = -2 * k[0] * y[0]**2 - k[1] * y[0]\n",
    "    dydt[1] = k[0] * y[0]**2 - k[3] * y[1] * y[3]\n",
    "    dydt[2] = k[1] * y[0] - k[2] * y[2]\n",
    "    dydt[3] = k[2] * y[2] - k[3] * y[1] * y[3]\n",
    "    dydt[4] = k[3] * y[1] * y[3]\n",
    "    return dydt\n"
   ]
  },
  {
   "cell_type": "code",
   "execution_count": null,
   "metadata": {},
   "outputs": [],
   "source": [
    "def solve_ode(func, u0, tspan, t_eval, params):\n",
    "    \"\"\"\n",
    "    Аналог создания и решения задачи ОДУ в Julia.\n",
    "    \"\"\"\n",
    "    return solve_ivp(func, tspan, u0, t_eval=t_eval, args=params)"
   ]
  },
  {
   "cell_type": "code",
   "execution_count": 41,
   "metadata": {},
   "outputs": [
    {
     "ename": "IndexError",
     "evalue": "too many indices for array: array is 0-dimensional, but 1 were indexed",
     "output_type": "error",
     "traceback": [
      "\u001b[1;31m---------------------------------------------------------------------------\u001b[0m",
      "\u001b[1;31mIndexError\u001b[0m                                Traceback (most recent call last)",
      "Cell \u001b[1;32mIn[41], line 8\u001b[0m\n\u001b[0;32m      5\u001b[0m prob_trueode \u001b[38;5;241m=\u001b[39m \u001b[38;5;28;01mlambda\u001b[39;00m t, y: true_ode_func(t, y\u001b[38;5;241m=\u001b[39mu0, k\u001b[38;5;241m=\u001b[39mK)  \u001b[38;5;66;03m# trueODEfunc аналогична\u001b[39;00m\n\u001b[0;32m      7\u001b[0m \u001b[38;5;66;03m# Решение ОДУ с заданным алгоритмом и временем\u001b[39;00m\n\u001b[1;32m----> 8\u001b[0m sol \u001b[38;5;241m=\u001b[39m \u001b[43msolve_ivp\u001b[49m\u001b[43m(\u001b[49m\u001b[43mprob_trueode\u001b[49m\u001b[43m,\u001b[49m\u001b[43m \u001b[49m\u001b[43mtspan\u001b[49m\u001b[43m,\u001b[49m\u001b[43m \u001b[49m\u001b[43mu0\u001b[49m\u001b[43m,\u001b[49m\u001b[43m \u001b[49m\u001b[43mmethod\u001b[49m\u001b[38;5;241;43m=\u001b[39;49m\u001b[38;5;124;43m'\u001b[39;49m\u001b[38;5;124;43mRK45\u001b[39;49m\u001b[38;5;124;43m'\u001b[39;49m\u001b[43m,\u001b[49m\u001b[43m \u001b[49m\u001b[43mt_eval\u001b[49m\u001b[38;5;241;43m=\u001b[39;49m\u001b[43mtsteps\u001b[49m\u001b[43m)\u001b[49m\n\u001b[0;32m      9\u001b[0m ode_data \u001b[38;5;241m=\u001b[39m sol\u001b[38;5;241m.\u001b[39my  \u001b[38;5;66;03m# Преобразуем в матрицу (в Julia это Array)\u001b[39;00m\n\u001b[0;32m     11\u001b[0m \u001b[38;5;66;03m# Добавляем шумы\u001b[39;00m\n",
      "File \u001b[1;32mc:\\Users\\GeraschenkoKM\\Desktop\\My ML education\\ml_training\\Lib\\site-packages\\scipy\\integrate\\_ivp\\ivp.py:621\u001b[0m, in \u001b[0;36msolve_ivp\u001b[1;34m(fun, t_span, y0, method, t_eval, dense_output, events, vectorized, args, **options)\u001b[0m\n\u001b[0;32m    618\u001b[0m \u001b[38;5;28;01mif\u001b[39;00m method \u001b[38;5;129;01min\u001b[39;00m METHODS:\n\u001b[0;32m    619\u001b[0m     method \u001b[38;5;241m=\u001b[39m METHODS[method]\n\u001b[1;32m--> 621\u001b[0m solver \u001b[38;5;241m=\u001b[39m \u001b[43mmethod\u001b[49m\u001b[43m(\u001b[49m\u001b[43mfun\u001b[49m\u001b[43m,\u001b[49m\u001b[43m \u001b[49m\u001b[43mt0\u001b[49m\u001b[43m,\u001b[49m\u001b[43m \u001b[49m\u001b[43my0\u001b[49m\u001b[43m,\u001b[49m\u001b[43m \u001b[49m\u001b[43mtf\u001b[49m\u001b[43m,\u001b[49m\u001b[43m \u001b[49m\u001b[43mvectorized\u001b[49m\u001b[38;5;241;43m=\u001b[39;49m\u001b[43mvectorized\u001b[49m\u001b[43m,\u001b[49m\u001b[43m \u001b[49m\u001b[38;5;241;43m*\u001b[39;49m\u001b[38;5;241;43m*\u001b[39;49m\u001b[43moptions\u001b[49m\u001b[43m)\u001b[49m\n\u001b[0;32m    623\u001b[0m \u001b[38;5;28;01mif\u001b[39;00m t_eval \u001b[38;5;129;01mis\u001b[39;00m \u001b[38;5;28;01mNone\u001b[39;00m:\n\u001b[0;32m    624\u001b[0m     ts \u001b[38;5;241m=\u001b[39m [t0]\n",
      "File \u001b[1;32mc:\\Users\\GeraschenkoKM\\Desktop\\My ML education\\ml_training\\Lib\\site-packages\\scipy\\integrate\\_ivp\\rk.py:94\u001b[0m, in \u001b[0;36mRungeKutta.__init__\u001b[1;34m(self, fun, t0, y0, t_bound, max_step, rtol, atol, vectorized, first_step, **extraneous)\u001b[0m\n\u001b[0;32m     92\u001b[0m \u001b[38;5;28mself\u001b[39m\u001b[38;5;241m.\u001b[39mmax_step \u001b[38;5;241m=\u001b[39m validate_max_step(max_step)\n\u001b[0;32m     93\u001b[0m \u001b[38;5;28mself\u001b[39m\u001b[38;5;241m.\u001b[39mrtol, \u001b[38;5;28mself\u001b[39m\u001b[38;5;241m.\u001b[39matol \u001b[38;5;241m=\u001b[39m validate_tol(rtol, atol, \u001b[38;5;28mself\u001b[39m\u001b[38;5;241m.\u001b[39mn)\n\u001b[1;32m---> 94\u001b[0m \u001b[38;5;28mself\u001b[39m\u001b[38;5;241m.\u001b[39mf \u001b[38;5;241m=\u001b[39m \u001b[38;5;28;43mself\u001b[39;49m\u001b[38;5;241;43m.\u001b[39;49m\u001b[43mfun\u001b[49m\u001b[43m(\u001b[49m\u001b[38;5;28;43mself\u001b[39;49m\u001b[38;5;241;43m.\u001b[39;49m\u001b[43mt\u001b[49m\u001b[43m,\u001b[49m\u001b[43m \u001b[49m\u001b[38;5;28;43mself\u001b[39;49m\u001b[38;5;241;43m.\u001b[39;49m\u001b[43my\u001b[49m\u001b[43m)\u001b[49m\n\u001b[0;32m     95\u001b[0m \u001b[38;5;28;01mif\u001b[39;00m first_step \u001b[38;5;129;01mis\u001b[39;00m \u001b[38;5;28;01mNone\u001b[39;00m:\n\u001b[0;32m     96\u001b[0m     \u001b[38;5;28mself\u001b[39m\u001b[38;5;241m.\u001b[39mh_abs \u001b[38;5;241m=\u001b[39m select_initial_step(\n\u001b[0;32m     97\u001b[0m         \u001b[38;5;28mself\u001b[39m\u001b[38;5;241m.\u001b[39mfun, \u001b[38;5;28mself\u001b[39m\u001b[38;5;241m.\u001b[39mt, \u001b[38;5;28mself\u001b[39m\u001b[38;5;241m.\u001b[39my, t_bound, max_step, \u001b[38;5;28mself\u001b[39m\u001b[38;5;241m.\u001b[39mf, \u001b[38;5;28mself\u001b[39m\u001b[38;5;241m.\u001b[39mdirection,\n\u001b[0;32m     98\u001b[0m         \u001b[38;5;28mself\u001b[39m\u001b[38;5;241m.\u001b[39merror_estimator_order, \u001b[38;5;28mself\u001b[39m\u001b[38;5;241m.\u001b[39mrtol, \u001b[38;5;28mself\u001b[39m\u001b[38;5;241m.\u001b[39matol)\n",
      "File \u001b[1;32mc:\\Users\\GeraschenkoKM\\Desktop\\My ML education\\ml_training\\Lib\\site-packages\\scipy\\integrate\\_ivp\\base.py:154\u001b[0m, in \u001b[0;36mOdeSolver.__init__.<locals>.fun\u001b[1;34m(t, y)\u001b[0m\n\u001b[0;32m    152\u001b[0m \u001b[38;5;28;01mdef\u001b[39;00m \u001b[38;5;21mfun\u001b[39m(t, y):\n\u001b[0;32m    153\u001b[0m     \u001b[38;5;28mself\u001b[39m\u001b[38;5;241m.\u001b[39mnfev \u001b[38;5;241m+\u001b[39m\u001b[38;5;241m=\u001b[39m \u001b[38;5;241m1\u001b[39m\n\u001b[1;32m--> 154\u001b[0m     \u001b[38;5;28;01mreturn\u001b[39;00m \u001b[38;5;28;43mself\u001b[39;49m\u001b[38;5;241;43m.\u001b[39;49m\u001b[43mfun_single\u001b[49m\u001b[43m(\u001b[49m\u001b[43mt\u001b[49m\u001b[43m,\u001b[49m\u001b[43m \u001b[49m\u001b[43my\u001b[49m\u001b[43m)\u001b[49m\n",
      "File \u001b[1;32mc:\\Users\\GeraschenkoKM\\Desktop\\My ML education\\ml_training\\Lib\\site-packages\\scipy\\integrate\\_ivp\\base.py:23\u001b[0m, in \u001b[0;36mcheck_arguments.<locals>.fun_wrapped\u001b[1;34m(t, y)\u001b[0m\n\u001b[0;32m     22\u001b[0m \u001b[38;5;28;01mdef\u001b[39;00m \u001b[38;5;21mfun_wrapped\u001b[39m(t, y):\n\u001b[1;32m---> 23\u001b[0m     \u001b[38;5;28;01mreturn\u001b[39;00m np\u001b[38;5;241m.\u001b[39masarray(\u001b[43mfun\u001b[49m\u001b[43m(\u001b[49m\u001b[43mt\u001b[49m\u001b[43m,\u001b[49m\u001b[43m \u001b[49m\u001b[43my\u001b[49m\u001b[43m)\u001b[49m, dtype\u001b[38;5;241m=\u001b[39mdtype)\n",
      "Cell \u001b[1;32mIn[41], line 5\u001b[0m, in \u001b[0;36m<lambda>\u001b[1;34m(t, y)\u001b[0m\n\u001b[0;32m      3\u001b[0m u0 \u001b[38;5;241m=\u001b[39m u0_list[i, :]\n\u001b[0;32m      4\u001b[0m \u001b[38;5;66;03m# Определяем функцию, описывающую ОДУ, и задачу\u001b[39;00m\n\u001b[1;32m----> 5\u001b[0m prob_trueode \u001b[38;5;241m=\u001b[39m \u001b[38;5;28;01mlambda\u001b[39;00m t, y: \u001b[43mtrue_ode_func\u001b[49m\u001b[43m(\u001b[49m\u001b[43mt\u001b[49m\u001b[43m,\u001b[49m\u001b[43m \u001b[49m\u001b[43my\u001b[49m\u001b[38;5;241;43m=\u001b[39;49m\u001b[43mu0\u001b[49m\u001b[43m,\u001b[49m\u001b[43m \u001b[49m\u001b[43mk\u001b[49m\u001b[38;5;241;43m=\u001b[39;49m\u001b[43mK\u001b[49m\u001b[43m)\u001b[49m  \u001b[38;5;66;03m# trueODEfunc аналогична\u001b[39;00m\n\u001b[0;32m      7\u001b[0m \u001b[38;5;66;03m# Решение ОДУ с заданным алгоритмом и временем\u001b[39;00m\n\u001b[0;32m      8\u001b[0m sol \u001b[38;5;241m=\u001b[39m solve_ivp(prob_trueode, tspan, u0, method\u001b[38;5;241m=\u001b[39m\u001b[38;5;124m'\u001b[39m\u001b[38;5;124mRK45\u001b[39m\u001b[38;5;124m'\u001b[39m, t_eval\u001b[38;5;241m=\u001b[39mtsteps)\n",
      "Cell \u001b[1;32mIn[39], line 17\u001b[0m, in \u001b[0;36mtrue_ode_func\u001b[1;34m(t, y, k)\u001b[0m\n\u001b[0;32m      1\u001b[0m \u001b[38;5;28;01mdef\u001b[39;00m \u001b[38;5;21mtrue_ode_func\u001b[39m(t, y, k):\n\u001b[0;32m      2\u001b[0m \u001b[38;5;250m    \u001b[39m\u001b[38;5;124;03m\"\"\"\u001b[39;00m\n\u001b[0;32m      3\u001b[0m \u001b[38;5;124;03m    Вычисляет производные системы дифференциальных уравнений.\u001b[39;00m\n\u001b[0;32m      4\u001b[0m \u001b[38;5;124;03m    \u001b[39;00m\n\u001b[1;32m   (...)\u001b[0m\n\u001b[0;32m     15\u001b[0m \u001b[38;5;124;03m        Вектор производных.\u001b[39;00m\n\u001b[0;32m     16\u001b[0m \u001b[38;5;124;03m    \"\"\"\u001b[39;00m\n\u001b[1;32m---> 17\u001b[0m     \u001b[43mdydt\u001b[49m\u001b[43m[\u001b[49m\u001b[38;5;241;43m0\u001b[39;49m\u001b[43m]\u001b[49m \u001b[38;5;241m=\u001b[39m \u001b[38;5;241m-\u001b[39m\u001b[38;5;241m2\u001b[39m \u001b[38;5;241m*\u001b[39m k[\u001b[38;5;241m0\u001b[39m] \u001b[38;5;241m*\u001b[39m y[\u001b[38;5;241m0\u001b[39m]\u001b[38;5;241m*\u001b[39m\u001b[38;5;241m*\u001b[39m\u001b[38;5;241m2\u001b[39m \u001b[38;5;241m-\u001b[39m k[\u001b[38;5;241m1\u001b[39m] \u001b[38;5;241m*\u001b[39m y[\u001b[38;5;241m0\u001b[39m]\n\u001b[0;32m     18\u001b[0m     dydt[\u001b[38;5;241m1\u001b[39m] \u001b[38;5;241m=\u001b[39m k[\u001b[38;5;241m0\u001b[39m] \u001b[38;5;241m*\u001b[39m y[\u001b[38;5;241m0\u001b[39m]\u001b[38;5;241m*\u001b[39m\u001b[38;5;241m*\u001b[39m\u001b[38;5;241m2\u001b[39m \u001b[38;5;241m-\u001b[39m k[\u001b[38;5;241m3\u001b[39m] \u001b[38;5;241m*\u001b[39m y[\u001b[38;5;241m1\u001b[39m] \u001b[38;5;241m*\u001b[39m y[\u001b[38;5;241m3\u001b[39m]\n\u001b[0;32m     19\u001b[0m     dydt[\u001b[38;5;241m2\u001b[39m] \u001b[38;5;241m=\u001b[39m k[\u001b[38;5;241m1\u001b[39m] \u001b[38;5;241m*\u001b[39m y[\u001b[38;5;241m0\u001b[39m] \u001b[38;5;241m-\u001b[39m k[\u001b[38;5;241m2\u001b[39m] \u001b[38;5;241m*\u001b[39m y[\u001b[38;5;241m2\u001b[39m]\n",
      "\u001b[1;31mIndexError\u001b[0m: too many indices for array: array is 0-dimensional, but 1 were indexed"
     ]
    }
   ],
   "source": [
    "std_list = []\n",
    "for i in range(N_EXP):\n",
    "    u0 = u0_list[i, :]\n",
    "    # Определяем функцию, описывающую ОДУ, и задачу\n",
    "    prob_trueode = lambda t, y: true_ode_func(t, y=u0, k=K)  # trueODEfunc аналогична\n",
    "    \n",
    "    # Решение ОДУ с заданным алгоритмом и временем\n",
    "    sol = solve_ivp(prob_trueode, tspan, u0, method='RK45', t_eval=tsteps)\n",
    "    ode_data = sol.y  # Преобразуем в матрицу (в Julia это Array)\n",
    "    \n",
    "    # Добавляем шумы\n",
    "    ode_data += np.random.randn(*ode_data.shape) * ode_data * NOISE\n",
    "    \n",
    "    # Сохраняем данные\n",
    "    ode_data_list[i, :, :] = ode_data\n",
    "    \n",
    "    # Вычисляем max_min для текущих данных\n",
    "    std_list.append(np.max(ode_data, axis=1) - np.min(ode_data, axis=1) + LB)\n",
    "\n",
    "# Вычисляем y_std\n",
    "std_matrix = np.column_stack(std_list)  # Аналог hcat в Julia\n",
    "y_std = np.max(std_matrix, axis=1)\n",
    "\n"
   ]
  },
  {
   "cell_type": "code",
   "execution_count": 34,
   "metadata": {},
   "outputs": [
    {
     "name": "stdout",
     "output_type": "stream",
     "text": [
      "[[1.0015455  1.0607156  0.         0.         0.        ]\n",
      " [0.98516953 0.6033745  0.         0.         0.        ]\n",
      " [0.42716482 0.6048892  0.         0.         0.        ]\n",
      " [0.9676658  0.8071074  0.         0.         0.        ]\n",
      " [0.42149907 0.86134565 0.         0.         0.        ]\n",
      " [0.24827704 0.6849937  0.         0.         0.        ]\n",
      " [0.33513385 1.1609813  0.         0.         0.        ]\n",
      " [0.54836035 1.18244    0.         0.         0.        ]]\n",
      "\n",
      "[0.98516953 0.6033745  0.         0.         0.        ]\n"
     ]
    }
   ],
   "source": [
    "print(u0_list)\n",
    "print()\n",
    "print(u0_list[1, :])"
   ]
  },
  {
   "cell_type": "code",
   "execution_count": 49,
   "metadata": {},
   "outputs": [
    {
     "name": "stdout",
     "output_type": "stream",
     "text": [
      "[[[0. 0. 0. 0. 0. 0. 0. 0. 0. 0.]\n",
      "  [0. 0. 0. 0. 0. 0. 0. 0. 0. 0.]\n",
      "  [0. 0. 0. 0. 0. 0. 0. 0. 0. 0.]\n",
      "  [0. 0. 0. 0. 0. 0. 0. 0. 0. 0.]\n",
      "  [0. 0. 0. 0. 0. 0. 0. 0. 0. 0.]]\n",
      "\n",
      " [[0. 0. 0. 0. 0. 0. 0. 0. 0. 0.]\n",
      "  [0. 0. 0. 0. 0. 0. 0. 0. 0. 0.]\n",
      "  [0. 0. 0. 0. 0. 0. 0. 0. 0. 0.]\n",
      "  [0. 0. 0. 0. 0. 0. 0. 0. 0. 0.]\n",
      "  [0. 0. 0. 0. 0. 0. 0. 0. 0. 0.]]\n",
      "\n",
      " [[0. 0. 0. 0. 0. 0. 0. 0. 0. 0.]\n",
      "  [0. 0. 0. 0. 0. 0. 0. 0. 0. 0.]\n",
      "  [0. 0. 0. 0. 0. 0. 0. 0. 0. 0.]\n",
      "  [0. 0. 0. 0. 0. 0. 0. 0. 0. 0.]\n",
      "  [0. 0. 0. 0. 0. 0. 0. 0. 0. 0.]]\n",
      "\n",
      " [[0. 0. 0. 0. 0. 0. 0. 0. 0. 0.]\n",
      "  [0. 0. 0. 0. 0. 0. 0. 0. 0. 0.]\n",
      "  [0. 0. 0. 0. 0. 0. 0. 0. 0. 0.]\n",
      "  [0. 0. 0. 0. 0. 0. 0. 0. 0. 0.]\n",
      "  [0. 0. 0. 0. 0. 0. 0. 0. 0. 0.]]\n",
      "\n",
      " [[0. 0. 0. 0. 0. 0. 0. 0. 0. 0.]\n",
      "  [0. 0. 0. 0. 0. 0. 0. 0. 0. 0.]\n",
      "  [0. 0. 0. 0. 0. 0. 0. 0. 0. 0.]\n",
      "  [0. 0. 0. 0. 0. 0. 0. 0. 0. 0.]\n",
      "  [0. 0. 0. 0. 0. 0. 0. 0. 0. 0.]]\n",
      "\n",
      " [[0. 0. 0. 0. 0. 0. 0. 0. 0. 0.]\n",
      "  [0. 0. 0. 0. 0. 0. 0. 0. 0. 0.]\n",
      "  [0. 0. 0. 0. 0. 0. 0. 0. 0. 0.]\n",
      "  [0. 0. 0. 0. 0. 0. 0. 0. 0. 0.]\n",
      "  [0. 0. 0. 0. 0. 0. 0. 0. 0. 0.]]\n",
      "\n",
      " [[0. 0. 0. 0. 0. 0. 0. 0. 0. 0.]\n",
      "  [0. 0. 0. 0. 0. 0. 0. 0. 0. 0.]\n",
      "  [0. 0. 0. 0. 0. 0. 0. 0. 0. 0.]\n",
      "  [0. 0. 0. 0. 0. 0. 0. 0. 0. 0.]\n",
      "  [0. 0. 0. 0. 0. 0. 0. 0. 0. 0.]]\n",
      "\n",
      " [[0. 0. 0. 0. 0. 0. 0. 0. 0. 0.]\n",
      "  [0. 0. 0. 0. 0. 0. 0. 0. 0. 0.]\n",
      "  [0. 0. 0. 0. 0. 0. 0. 0. 0. 0.]\n",
      "  [0. 0. 0. 0. 0. 0. 0. 0. 0. 0.]\n",
      "  [0. 0. 0. 0. 0. 0. 0. 0. 0. 0.]]]\n"
     ]
    }
   ],
   "source": [
    "print(ode_data_list)"
   ]
  },
  {
   "cell_type": "markdown",
   "metadata": {},
   "source": [
    "###  Нужно еще более глубоко проверить, и сравнить поэтапно, то ли выполняется! \n",
    "### На данный момент получилось запустить, вроде бы работает как надо!"
   ]
  },
  {
   "cell_type": "code",
   "execution_count": null,
   "metadata": {},
   "outputs": [],
   "source": []
  }
 ],
 "metadata": {
  "kernelspec": {
   "display_name": "Ml_training",
   "language": "python",
   "name": "python3"
  },
  "language_info": {
   "codemirror_mode": {
    "name": "ipython",
    "version": 3
   },
   "file_extension": ".py",
   "mimetype": "text/x-python",
   "name": "python",
   "nbconvert_exporter": "python",
   "pygments_lexer": "ipython3",
   "version": "3.9.10"
  }
 },
 "nbformat": 4,
 "nbformat_minor": 2
}
