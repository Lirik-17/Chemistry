{
 "cells": [
  {
   "cell_type": "code",
   "execution_count": 1,
   "metadata": {},
   "outputs": [],
   "source": [
    "# Библиотеки\n",
    "\n",
    "from scipy.integrate import solve_ivp\n",
    "import numpy as np\n",
    "import matplotlib.pyplot as plt\n",
    "\n",
    "import torch \n",
    "import torch.optim as optim\n",
    "from torchdiffeq import odeint             # пока не понятно для чего"
   ]
  },
  {
   "cell_type": "code",
   "execution_count": 2,
   "metadata": {},
   "outputs": [],
   "source": [
    "# Переменные\n",
    "\n",
    "IS_RESTART = False\n",
    "P_CUTOFF = 0.0                                                     # Непонятно для чего\n",
    "N_EPOCH = 1000                                                     # Количество эпох. Максимальное\n",
    "N_PLOT = 100                                                       # Частота формирования графиков. Через сколько эпох\n",
    "\n",
    "# Есть большая вероятность, что нам не нужен будет OPT, и что строчку ниже нужно будет удалить\n",
    "OPT = optim.AdamW([torch.tensor(1.0)], lr=0.001, betas=(0.9, 0.999), eps=1e-8)          # Оптимизатор\n",
    "DATASIZE = 10                                                      # Размер датасетов?\n",
    "TSTEP = 1                                                          # Шаг времени для датасетов? или типа их количество?\n",
    "N_EXP_TRAIN = 6                                                    # Размер данных для обучения\n",
    "N_EXP_TEST = 2                                                     # Размер даных для теста\n",
    "N_EXP = N_EXP_TRAIN + N_EXP_TEST                                   # Общий размер данных\n",
    "NOISE = 5e-2                                                       # ШУМ\n",
    "NS = 5                                                             # Количество веществ\n",
    "NR = 4                                                             # Количество хим. реакций\n",
    "K = torch.tensor([0.1, 0.2, 0.13, 0.3], dtype=torch.float32)                                   # константы хим. реакций\n",
    "ATOL = 0.00001                                                     # Параметр точности для ОДУ\n",
    "RTOL = 0.01                                                        # Параметр точности для ОДУ\n",
    "\n",
    "MAXITERS = 10000                                                   # Не понял для чего нужно\n",
    "\n",
    "LB = 0.00001\n",
    "UB = 1\n"
   ]
  },
  {
   "cell_type": "code",
   "execution_count": 3,
   "metadata": {},
   "outputs": [],
   "source": [
    "u0_list = np.random.rand(N_EXP, NS).astype(np.float32)\n",
    "u0_list[:, 0:2] += 0.2\n",
    "u0_list[:, 2:] = 0.0\n",
    "tspan = [0.0, DATASIZE * TSTEP]\n",
    "tsteps = np.linspace(tspan[0], tspan[1], DATASIZE)               # возможно надо оставить просто DATASIZE\n",
    "ode_data_list = np.zeros((N_EXP, NS, DATASIZE), dtype=np.float32)"
   ]
  },
  {
   "cell_type": "code",
   "execution_count": 4,
   "metadata": {},
   "outputs": [
    {
     "name": "stdout",
     "output_type": "stream",
     "text": [
      "[ 0.          1.11111111  2.22222222  3.33333333  4.44444444  5.55555556\n",
      "  6.66666667  7.77777778  8.88888889 10.        ]\n"
     ]
    }
   ],
   "source": [
    "print(tsteps)"
   ]
  },
  {
   "cell_type": "markdown",
   "metadata": {},
   "source": [
    "### Дальше пойдут функции"
   ]
  },
  {
   "cell_type": "code",
   "execution_count": 5,
   "metadata": {},
   "outputs": [],
   "source": [
    "def true_ode_func(t, y, k):\n",
    "    \"\"\"\n",
    "    Вычисляет производные системы дифференциальных уравнений.\n",
    "    \n",
    "    Параметры:\n",
    "    t : float\n",
    "        Время (не используется в данном уравнении, но необходим для совместимости с solve_ivp).\n",
    "    y : array-like\n",
    "        Вектор переменных (y[0], y[1], ..., y[4]).\n",
    "    k : array-like\n",
    "        Коэффициенты (k[0], k[1], ..., k[4]).\n",
    "\n",
    "    Возвращает:\n",
    "    dydt : numpy.ndarray\n",
    "        Вектор производных.\n",
    "    \"\"\"\n",
    "    dydt = np.zeros_like(y)\n",
    "    dydt[0] = -2 * k[0] * y[0]**2 - k[1] * y[0]\n",
    "    dydt[1] = k[0] * y[0]**2 - k[3] * y[1] * y[3]\n",
    "    dydt[2] = k[1] * y[0] - k[2] * y[2]\n",
    "    dydt[3] = k[2] * y[2] - k[3] * y[1] * y[3]\n",
    "    dydt[4] = k[3] * y[1] * y[3]\n",
    "    return dydt\n"
   ]
  },
  {
   "cell_type": "code",
   "execution_count": 14,
   "metadata": {},
   "outputs": [
    {
     "name": "stdout",
     "output_type": "stream",
     "text": [
      "(8, 5, 10)\n",
      "\n"
     ]
    }
   ],
   "source": [
    "print(ode_data_list.shape)\n",
    "print()\n",
    "# print(u0_list[0, :])"
   ]
  },
  {
   "cell_type": "code",
   "execution_count": 15,
   "metadata": {},
   "outputs": [],
   "source": [
    "std_list = []\n",
    "for i in range(N_EXP):\n",
    "    # Берем i-ю строку из u0_list\n",
    "    u0 = u0_list[i, :]\n",
    "    \n",
    "    # Определяем функцию, описывающую ОДУ, и задачу\n",
    "    prob_trueode = lambda t, y: true_ode_func(t, y=u0, k=K)  # trueODEfunc аналогична\n",
    "    \n",
    "    # Решение ОДУ с заданным алгоритмом и временем\n",
    "    sol = solve_ivp(prob_trueode, tspan, u0, method='RK45', t_eval=tsteps)\n",
    "    ode_data = sol.y  # Преобразуем в матрицу (в Julia это Array)\n",
    "    \n",
    "    # Добавляем шумы\n",
    "    ode_data += np.random.randn(*ode_data.shape) * ode_data * NOISE\n",
    "    \n",
    "    # Сохраняем данные\n",
    "    ode_data_list[i, :, :] = ode_data\n",
    "    \n",
    "    # Вычисляем max_min для текущих данных\n",
    "    std_list.append(np.max(ode_data, axis=1) - np.min(ode_data, axis=1) + LB)\n",
    "\n",
    "# Вычисляем y_std\n",
    "std_matrix = np.column_stack(std_list)  # Аналог hcat в Julia\n",
    "y_std = np.max(std_matrix, axis=1)"
   ]
  },
  {
   "cell_type": "code",
   "execution_count": 16,
   "metadata": {},
   "outputs": [
    {
     "name": "stdout",
     "output_type": "stream",
     "text": [
      "[4.88207600e+00 1.36151729e+00 2.48114506e+00 1.00000000e-05\n",
      " 1.00000000e-05]\n"
     ]
    }
   ],
   "source": [
    "print(y_std)"
   ]
  },
  {
   "cell_type": "markdown",
   "metadata": {},
   "source": [
    "###  Нужно еще более глубоко проверить, и сравнить поэтапно, то ли выполняется! \n",
    "### На данный момент получилось запустить, вроде бы работает как надо!"
   ]
  },
  {
   "cell_type": "code",
   "execution_count": null,
   "metadata": {},
   "outputs": [],
   "source": []
  }
 ],
 "metadata": {
  "kernelspec": {
   "display_name": "ml_training",
   "language": "python",
   "name": "python3"
  },
  "language_info": {
   "codemirror_mode": {
    "name": "ipython",
    "version": 3
   },
   "file_extension": ".py",
   "mimetype": "text/x-python",
   "name": "python",
   "nbconvert_exporter": "python",
   "pygments_lexer": "ipython3",
   "version": "3.11.5"
  }
 },
 "nbformat": 4,
 "nbformat_minor": 2
}
