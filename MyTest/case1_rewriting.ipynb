{
 "cells": [
  {
   "cell_type": "code",
   "execution_count": 9,
   "metadata": {},
   "outputs": [],
   "source": [
    "# Библиотеки\n",
    "\n",
    "from scipy.integrate import solve_ivp\n",
    "import numpy as np\n",
    "import matplotlib.pyplot as plt\n",
    "\n",
    "import torch \n",
    "import torch.optim as optim\n",
    "from torchdiffeq import odeint             # пока не понятно для чего"
   ]
  },
  {
   "cell_type": "code",
   "execution_count": 11,
   "metadata": {},
   "outputs": [],
   "source": [
    "# Переменные\n",
    "\n",
    "IS_RESTART = False\n",
    "P_CUTOFF = 0.0                                                     # Непонятно для чего\n",
    "N_EPOCH = 1000                                                     # Количество эпох. Максимальное\n",
    "N_PLOT = 100                                                       # Частота формирования графиков. Через сколько эпох\n",
    "\n",
    "# Есть большая вероятность, что нам не нужен будет OPT, и что строчку ниже нужно будет удалить\n",
    "OPT = optim.AdamW([torch.tensor(1.0)], lr=0.001, betas=(0.9, 0.999), eps=1e-8)          # Оптимизатор\n",
    "DATASIZE = 10                                                      # Размер датасетов?\n",
    "TSTEP = 1                                                          # Шаг времени для датасетов? или типа их количество?\n",
    "N_EXP_TRAIN = 6                                                    # Размер данных для обучения\n",
    "N_EXP_TEST = 2                                                     # Размер даных для теста\n",
    "N_EXP = N_EXP_TRAIN + N_EXP_TEST                                   # Общий размер данных\n",
    "NOISE = 5e-2                                                       # ШУМ\n",
    "NS = 5                                                             # Количество веществ\n",
    "NR = 4                                                             # Количество хим. реакций\n",
    "K = torch.tensor([0.1, 0.2, 0.13, 0.3], dtype=torch.float32)                                   # константы хим. реакций\n",
    "ATOL = 0.00001                                                     # Параметр точности для ОДУ\n",
    "RTOL = 0.01                                                        # Параметр точности для ОДУ\n",
    "\n",
    "MAXITERS = 10000                                                   # Не понял для чего нужно\n",
    "\n",
    "LB = 0.00001\n",
    "UB = 1\n"
   ]
  },
  {
   "cell_type": "code",
   "execution_count": 30,
   "metadata": {},
   "outputs": [],
   "source": [
    "u0_list = np.random.rand(N_EXP, NS).astype(np.float32)\n",
    "u0_list[:, 0:2] += 0.2\n",
    "u0_list[:, 2:] = 0.0\n",
    "tspan = [0.0, DATASIZE * TSTEP]\n",
    "tsteps = np.linspace(tspan[0], tspan[1], DATASIZE)               # возможно надо остаить просто DATASIZE\n",
    "ode_data_list = np.zeros((N_EXP, NS, DATASIZE), dtype=np.float32)"
   ]
  },
  {
   "cell_type": "code",
   "execution_count": 31,
   "metadata": {},
   "outputs": [
    {
     "name": "stdout",
     "output_type": "stream",
     "text": [
      "[ 0.          1.11111111  2.22222222  3.33333333  4.44444444  5.55555556\n",
      "  6.66666667  7.77777778  8.88888889 10.        ]\n"
     ]
    }
   ],
   "source": [
    "print(tsteps)"
   ]
  },
  {
   "cell_type": "markdown",
   "metadata": {},
   "source": [
    "### Дальше пойдут функции"
   ]
  },
  {
   "cell_type": "code",
   "execution_count": null,
   "metadata": {},
   "outputs": [],
   "source": [
    "def max_min(ode_data):\n",
    "    return  "
   ]
  }
 ],
 "metadata": {
  "kernelspec": {
   "display_name": "ml_training",
   "language": "python",
   "name": "python3"
  },
  "language_info": {
   "codemirror_mode": {
    "name": "ipython",
    "version": 3
   },
   "file_extension": ".py",
   "mimetype": "text/x-python",
   "name": "python",
   "nbconvert_exporter": "python",
   "pygments_lexer": "ipython3",
   "version": "3.11.5"
  }
 },
 "nbformat": 4,
 "nbformat_minor": 2
}
