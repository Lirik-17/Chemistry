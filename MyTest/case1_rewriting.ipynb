{
 "cells": [
  {
   "cell_type": "code",
   "execution_count": 1,
   "metadata": {},
   "outputs": [],
   "source": [
    "# Библиотеки\n",
    "\n",
    "from scipy.integrate import solve_ivp\n",
    "import numpy as np\n",
    "import matplotlib.pyplot as plt\n",
    "\n",
    "import torch \n",
    "import torch.optim as optim\n",
    "from torchdiffeq import odeint             # пока не понятно для чего"
   ]
  },
  {
   "cell_type": "code",
   "execution_count": 2,
   "metadata": {},
   "outputs": [],
   "source": [
    "# Чтобы при вызове print или display после точки выводилось фиксированное число знаков\n",
    "\n",
    "np.set_printoptions(precision=5, suppress=True)"
   ]
  },
  {
   "cell_type": "code",
   "execution_count": 3,
   "metadata": {},
   "outputs": [],
   "source": [
    "# Переменные\n",
    "\n",
    "IS_RESTART = False\n",
    "P_CUTOFF = 0.0                                                     # Непонятно для чего\n",
    "N_EPOCH = 1000                                                     # Количество эпох. Максимальное\n",
    "N_PLOT = 100                                                       # Частота формирования графиков. Через сколько эпох\n",
    "\n",
    "# Есть большая вероятность, что нам не нужен будет OPT, и что строчку ниже нужно будет удалить\n",
    "OPT = optim.AdamW([torch.tensor(1.0)], lr=0.001, betas=(0.9, 0.999), eps=1e-8)          # Оптимизатор\n",
    "DATASIZE = 10                                                      # Размер датасетов?\n",
    "TSTEP = 1                                                          # Шаг времени для датасетов? или типа их количество?\n",
    "N_EXP_TRAIN = 6                                                    # Размер данных для обучения\n",
    "N_EXP_TEST = 2                                                     # Размер даных для теста\n",
    "N_EXP = N_EXP_TRAIN + N_EXP_TEST                                   # Общий размер данных\n",
    "NOISE = 5e-2                                                       # ШУМ\n",
    "NS = 5                                                             # Количество веществ\n",
    "NR = 4                                                             # Количество хим. реакций\n",
    "K = torch.tensor([0.1, 0.2, 0.13, 0.3], dtype=torch.float32)                                   # константы хим. реакций\n",
    "ATOL = 0.00001                                                     # Параметр точности для ОДУ\n",
    "RTOL = 0.01                                                        # Параметр точности для ОДУ\n",
    "B0 = -10.0 \n",
    "\n",
    "MAXITERS = 10000                                                   # Не понял для чего нужно\n",
    "\n",
    "LB = 0.00001\n",
    "UB = 1\n"
   ]
  },
  {
   "cell_type": "code",
   "execution_count": null,
   "metadata": {},
   "outputs": [],
   "source": [
    "u0_list = np.array([\n",
    "    [0.2, 0.4, 0.0, 0.0, 0.0],\n",
    "    [1.0, 0.7, 0.0, 0.0, 0.0],\n",
    "    [0.8, 0.2, 0.0, 0.0, 0.0],\n",
    "    [0.4, 0.2, 0.0, 0.0, 0.0],\n",
    "    [0.4, 0.7, 0.0, 0.0, 0.0],\n",
    "    [0.4, 0.6, 0.0, 0.0, 0.0],\n",
    "    [0.7, 0.2, 0.0, 0.0, 0.0],\n",
    "    [0.6, 1.1, 0.0, 0.0, 0.0]\n",
    "])\n",
    "\n",
    "# u0_list = np.random.rand(N_EXP, NS).astype(np.float32)\n",
    "u0_list[:, 0:2] += 0.2\n",
    "u0_list[:, 2:] = 0.0\n",
    "\n",
    "tspan = [0.0, DATASIZE * TSTEP]\n",
    "tsteps = np.linspace(tspan[0], tspan[1], DATASIZE)               # возможно надо оставить просто DATASIZE\n",
    "ode_data_list = np.zeros((DATASIZE, N_EXP, NS), dtype=np.float32)\n",
    "\n",
    "\n",
    "std_list = []"
   ]
  },
  {
   "cell_type": "code",
   "execution_count": 5,
   "metadata": {},
   "outputs": [],
   "source": [
    "def true_ode_func(t, y, k):\n",
    "    \"\"\"\n",
    "    Вычисляет производные системы дифференциальных уравнений.\n",
    "    \n",
    "    Параметры:\n",
    "    t : float\n",
    "        Время (не используется в данном уравнении, но необходим для совместимости с solve_ivp).\n",
    "    y : array-like\n",
    "        Вектор переменных (y[0], y[1], ..., y[4]).\n",
    "    k : array-like\n",
    "        Коэффициенты (k[0], k[1], ..., k[4]).\n",
    "\n",
    "    Возвращает:\n",
    "    dydt : numpy.ndarray\n",
    "        Вектор производных.\n",
    "    \"\"\"\n",
    "    dydt = np.zeros_like(y)\n",
    "    dydt[0] = -2 * k[0] * y[0]**2 - k[1] * y[0]\n",
    "    dydt[1] = k[0] * y[0]**2 - k[3] * y[1] * y[3]\n",
    "    dydt[2] = k[1] * y[0] - k[2] * y[2]\n",
    "    dydt[3] = k[2] * y[2] - k[3] * y[1] * y[3]\n",
    "    dydt[4] = k[3] * y[1] * y[3]\n",
    "    return dydt\n"
   ]
  },
  {
   "cell_type": "code",
   "execution_count": 72,
   "metadata": {},
   "outputs": [],
   "source": [
    "std_list = []\n",
    "\n",
    "for i in range(N_EXP):\n",
    "    u0 = u0_list[i, :]  # Начальные условия\n",
    "    # Решение\n",
    "    sol = solve_ivp(\n",
    "        true_ode_func,              # Функция ОДУ\n",
    "        tspan,                      # Интервал времени\n",
    "        u0,                         # Начальные условия\n",
    "        args=(K,),                  # Передача параметров в функцию\n",
    "        method='RK45',              # Метод решения\n",
    "        t_eval=tsteps               # Точки, в которых сохраняется решение (Шаг)\n",
    "    )\n",
    "    # Преобразование решения\n",
    "    ode_data = sol.y.T  # Транспонируем для согласования с форматом (в Julia это Array)\n",
    "\n",
    "    ode_data_list[:, i, :] = ode_data\n",
    "    # std_list.append(np.max(ode_data, axis=1) - np.min(ode_data, axis=1) + LB)      # С добавлением шума\n",
    "    std_list.append(np.max(ode_data, axis=0) - np.min(ode_data, axis=0))         # Без добавления шума\n",
    "\n",
    "# Вычисляем y_std\n",
    "std_matrix = np.column_stack(std_list)  # Аналог hcat в Julia\n",
    "y_std = np.max(std_matrix, axis=1)"
   ]
  },
  {
   "cell_type": "markdown",
   "metadata": {},
   "source": [
    "## <span style=\"color: red;\">Важная заметка!!!</span>\n",
    "sol = solve_ivp(true_ode_func, tspan, u0, args=(K,), method='RK45', t_eval=tsteps) <br>\n",
    "ode_data = sol.y.T <br>\n",
    "\n",
    "ode_data - матрица решений ОДУ\n",
    "## <span style=\"color: red;\">Важная заметка!!!</span>"
   ]
  },
  {
   "cell_type": "markdown",
   "metadata": {},
   "source": [
    "## Всё что выше, работает!"
   ]
  },
  {
   "cell_type": "code",
   "execution_count": 80,
   "metadata": {},
   "outputs": [],
   "source": [
    "def p2vec(p):\n",
    "    \"\"\"\n",
    "    Конвертирует параметры `p` в смещения, веса и ограниченные значения весов.\n",
    "\n",
    "    Args:\n",
    "        p (array-like): Вектор параметров.\n",
    "        NR (int): Количество элементов в `w_b`.\n",
    "        NS (int): Количество строк в `w_out`.\n",
    "        B0 (float): Сдвиг для вектора смещений.\n",
    "\n",
    "    Returns:\n",
    "        tuple: Три массива: w_in, w_b, w_out.\n",
    "    \"\"\"\n",
    "    # Вектор смещений\n",
    "    # w_b = p[:NR] + B0\n",
    "    w_b = p[:NR]\n",
    "\n",
    "    # Матрица будущих весов\n",
    "    w_out = np.reshape(p[NR:], (NS, NR))\n",
    "\n",
    "    # Ограничение значений весов\n",
    "    w_in = np.where(w_out > 0, 0, -w_out)\n",
    "\n",
    "    return w_in, w_b, w_out\n",
    "\n",
    "def display_weight(p):\n",
    "    \"\"\"\n",
    "    Выводит параметры w_in, w_b и w_out в читабельном формате.\n",
    "\n",
    "    Args:\n",
    "        p (array-like): Вектор параметров (одномерный массив).\n",
    "    \"\"\"\n",
    "    # Извлечение параметров с помощью p2vec\n",
    "    w_in, w_b, w_out = p2vec(p)\n",
    "\n",
    "    print('w_in', w_in, end='\\n\\n')\n",
    "    print('w_b', w_b, end='\\n\\n')\n",
    "    print('w_out', w_out, end='\\n\\n')\n",
    "\n",
    "    print(\"Species (column) reaction (row)\\n\")\n",
    "    \n",
    "    # Вывод w_in\n",
    "    print(\"w_in\")\n",
    "    print(np.round(w_in, 5))  # Транспонирование для совпадения с Julia\n",
    "    \n",
    "    # Вывод w_b\n",
    "    print(\"\\nw_b\")\n",
    "    print(np.round(np.exp(w_b), 5))  # Применяем экспоненту и округление\n",
    "\n",
    "    # Вывод w_out\n",
    "    print(\"\\nw_out\")\n",
    "    print(np.round(w_out, 5))  # Транспонирование для совпадения с Julia\n",
    "\n",
    "    print(\"\\n\")\n",
    "\n",
    "\n"
   ]
  },
  {
   "cell_type": "code",
   "execution_count": 75,
   "metadata": {},
   "outputs": [],
   "source": [
    "# Функция для обновления du\n",
    "def crnn(du, u, p, t):\n",
    "    \"\"\"\n",
    "    Вычисляет производную du для системы ОДУ.\n",
    "\n",
    "    Args:\n",
    "        du (array-like): Выходной массив для производной.\n",
    "        u (array-like): Текущее значение u.\n",
    "        p (dict): Параметры модели.\n",
    "        t (float): Текущее время.\n",
    "    \"\"\"\n",
    "    # Вычисляем параметры через p2vec\n",
    "    w_in, w_b, w_out = p2vec(p)\n",
    "\n",
    "    # Логарифм ограниченных значений\n",
    "    u_clamped = np.clip(u, LB, UB)\n",
    "    w_in_x = np.dot(w_in.T, np.log(u_clamped))\n",
    "\n",
    "    # Экспонента и обновление du\n",
    "    du[:] = np.dot(w_out, np.exp(w_in_x + w_b))\n",
    "\n",
    "\n",
    "# Обертка для solve_ivp\n",
    "def crnn_wrapper(t, u, p):\n",
    "    \"\"\"\n",
    "    Обертка для функции crnn для использования в solve_ivp.\n",
    "\n",
    "    Args:\n",
    "        t (float): Текущее время.\n",
    "        u (array-like): Текущее значение u.\n",
    "        p (dict): Параметры модели.\n",
    "\n",
    "    Returns:\n",
    "        array-like: Производная u.\n",
    "    \"\"\"\n",
    "    du = np.zeros_like(u)\n",
    "    crnn(du, u, p, t)\n",
    "    return du"
   ]
  },
  {
   "cell_type": "code",
   "execution_count": 83,
   "metadata": {},
   "outputs": [
    {
     "name": "stdout",
     "output_type": "stream",
     "text": [
      "[0.4 0.6 0.  0.  0. ]\n"
     ]
    }
   ],
   "source": [
    "p = [1.0,2.0,3.0,4.0,5.0,6.0,7.0,6.0,5.0,4.0,3.0,2.0,3.0,4.0,5.0,6.0,7.0,8.0,9.0,4.0,2.0,4.0,9.0,4.0]\n",
    "u0 = u0_list[0, :]\n",
    "print(u0)"
   ]
  },
  {
   "cell_type": "code",
   "execution_count": 81,
   "metadata": {},
   "outputs": [],
   "source": [
    "\n",
    "def crnn(t, u, p):\n",
    "    w_in, w_b, w_out = p2vec(p)\n",
    "    u_clamped = np.clip(u, LB, UB)\n",
    "    w_in_x = np.dot(w_in.T, np.log(u_clamped))\n",
    "    du = np.dot(w_out, np.exp(w_in_x + w_b))\n",
    "    return du\n",
    "\n",
    "# Решение задачи\n",
    "sol = solve_ivp(crnn, tspan, u0, args=(p,), t_eval=tsteps, atol=1e-6, rtol=1e-3)\n"
   ]
  },
  {
   "cell_type": "markdown",
   "metadata": {},
   "source": [
    "<br><br><br><br>\n",
    "Функция `predict_neuralode` из Julia у нас заложена в `solve_ivp`\n",
    "<br><br><br><br><br>"
   ]
  },
  {
   "cell_type": "code",
   "execution_count": 82,
   "metadata": {},
   "outputs": [
    {
     "name": "stdout",
     "output_type": "stream",
     "text": [
      "[[   0.4      584.97045 1169.5409  1754.11135 2338.6818  2923.25225\n",
      "  3507.8227  4092.39315 4676.96359 5261.53404]\n",
      " [   0.6      236.82283  473.04565  709.26848  945.49131 1181.71414\n",
      "  1417.93696 1654.15979 1890.38262 2126.60544]\n",
      " [   0.       517.47517 1034.95034 1552.42552 2069.90069 2587.37586\n",
      "  3104.85103 3622.3262  4139.80138 4657.27655]\n",
      " [   0.       530.3365  1060.67301 1591.00951 2121.34602 2651.68252\n",
      "  3182.01903 3712.35553 4242.69204 4773.02854]\n",
      " [   0.       482.39469  964.78938 1447.18407 1929.57876 2411.97345\n",
      "  2894.36814 3376.76283 3859.15752 4341.5522 ]]\n"
     ]
    }
   ],
   "source": [
    "print(sol.y)"
   ]
  },
  {
   "cell_type": "code",
   "execution_count": null,
   "metadata": {},
   "outputs": [],
   "source": []
  },
  {
   "cell_type": "code",
   "execution_count": null,
   "metadata": {},
   "outputs": [],
   "source": []
  }
 ],
 "metadata": {
  "kernelspec": {
   "display_name": "Ml_training",
   "language": "python",
   "name": "python3"
  },
  "language_info": {
   "codemirror_mode": {
    "name": "ipython",
    "version": 3
   },
   "file_extension": ".py",
   "mimetype": "text/x-python",
   "name": "python",
   "nbconvert_exporter": "python",
   "pygments_lexer": "ipython3",
   "version": "3.9.10"
  }
 },
 "nbformat": 4,
 "nbformat_minor": 2
}
