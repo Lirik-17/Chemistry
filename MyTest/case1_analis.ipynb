{
 "cells": [
  {
   "cell_type": "code",
   "execution_count": 1,
   "metadata": {},
   "outputs": [],
   "source": [
    "using OrdinaryDiffEq, Flux, Optim, Random, Plots\n",
    "using Zygote\n",
    "using ForwardDiff\n",
    "using LinearAlgebra, Statistics\n",
    "using ProgressBars, Printf\n",
    "using Flux.Optimise: update!, ExpDecay\n",
    "using Flux.Losses: mae, mse\n",
    "using BSON: @save, @load\n",
    "using DiffEqBase"
   ]
  },
  {
   "cell_type": "code",
   "execution_count": 2,
   "metadata": {},
   "outputs": [],
   "source": [
    "Random.seed!(1234);"
   ]
  },
  {
   "cell_type": "code",
   "execution_count": 2,
   "metadata": {},
   "outputs": [],
   "source": [
    "# Входные параметры\n",
    "\n",
    "is_restart = false;\n",
    "p_cutoff = 0.0;                                                     # Непонятно для чего\n",
    "n_epoch = 1000;                                                     # Количество эпох. Максимальное\n",
    "n_plot = 100;                                                       # Частота формирования графиков. Через сколько эпох\n",
    "opt = ADAMW(0.001, (0.9, 0.999), 1.f-8);                            # Оптимизатор\n",
    "datasize = 10;                                                     # Размер датасетов?\n",
    "tstep = 1;                                                          # Шаг времени для татасетов? или типа их количество?\n",
    "n_exp_train = 6;                                                   # Размер данных для обучения\n",
    "n_exp_test = 2;                                                    # Размер даных для теста\n",
    "n_exp = n_exp_train + n_exp_test;                                   # Общий размер данных\n",
    "noise = 5.f-2;                                                      # ШУМ\n",
    "ns = 5;                                                             # Количество веществ\n",
    "nr = 4;                                                             # Количество хим. реакций\n",
    "k = Float32[0.1, 0.2, 0.13, 0.3];                                   # константы хим. реакций\n",
    "alg = Tsit5();                                                      # Алгоритм для решения ОДУ?\n",
    "atol = 1e-5;                                                        # Параметр точности для ОДУ\n",
    "rtol = 1e-2;                                                        # Параметр точности для ОДУ\n",
    "\n",
    "maxiters = 10000;                                                   # Не понял для чего нужно\n",
    "\n",
    "lb = 1.f-5;\n",
    "ub = 1.f1;"
   ]
  },
  {
   "cell_type": "code",
   "execution_count": 3,
   "metadata": {},
   "outputs": [],
   "source": [
    "# Generate data sets\n",
    "u0_list = rand(Float32, (n_exp, ns));\n",
    "u0_list[:, 1:2] .+= 2.f-1;\n",
    "u0_list[:, 3:end] .= 0.f0;\n",
    "\n",
    "# В результате u0_list - матрица ns столбцов и n_exp строк, в которой 3+ столбцы нули\n",
    "tspan = Float32[0.0, datasize * tstep];\n",
    "tsteps = range(tspan[1], tspan[2], length=datasize);\n",
    "ode_data_list = zeros(Float32, (n_exp, ns, datasize));\n",
    "std_list = [];"
   ]
  },
  {
   "cell_type": "code",
   "execution_count": 4,
   "metadata": {},
   "outputs": [
    {
     "data": {
      "text/plain": [
       "max_min (generic function with 1 method)"
      ]
     },
     "metadata": {},
     "output_type": "display_data"
    }
   ],
   "source": [
    "function max_min(ode_data)\n",
    "    return maximum(ode_data, dims=2) .- minimum(ode_data, dims=2) .+ lb\n",
    "end"
   ]
  },
  {
   "cell_type": "code",
   "execution_count": 5,
   "metadata": {},
   "outputs": [
    {
     "data": {
      "text/plain": [
       "trueODEfunc (generic function with 1 method)"
      ]
     },
     "metadata": {},
     "output_type": "display_data"
    }
   ],
   "source": [
    "function trueODEfunc(dydt, y, k, t)\n",
    "    dydt[1] = -2 * k[1] * y[1]^2 - k[2] * y[1];\n",
    "    dydt[2] = k[1] * y[1]^2 - k[4] * y[2] * y[4];\n",
    "    dydt[3] = k[2] * y[1] - k[3] * y[3];\n",
    "    dydt[4] = k[3] * y[3] - k[4] * y[2] * y[4];\n",
    "    dydt[5] = k[4] * y[2] * y[4];\n",
    "end"
   ]
  },
  {
   "cell_type": "code",
   "execution_count": 6,
   "metadata": {},
   "outputs": [],
   "source": [
    "# Дале идет цикл с решением ODE для каждой строки матрицы u0_list.\n",
    "# Решение записывается в std_list\n",
    "\n",
    "for i in 1:n_exp\n",
    "    u0 = u0_list[i, :];\n",
    "    prob_trueode = ODEProblem(trueODEfunc, u0, tspan, k);\n",
    "    ode_data = Array(solve(prob_trueode, alg, saveat=tsteps));\n",
    "    ode_data += randn(size(ode_data)) .* ode_data .* noise\n",
    "    ode_data_list[i, :, :] = ode_data\n",
    "    push!(std_list, max_min(ode_data));\n",
    "end\n",
    "\n",
    "y_std = maximum(hcat(std_list...), dims=2);"
   ]
  },
  {
   "cell_type": "code",
   "execution_count": 7,
   "metadata": {},
   "outputs": [],
   "source": [
    "u0 = u0_list[1, :]\n",
    "p = randn(Float32, nr * (ns + 1)) .* 1.f-1;"
   ]
  },
  {
   "cell_type": "code",
   "execution_count": 8,
   "metadata": {},
   "outputs": [
    {
     "data": {
      "text/plain": [
       "p2vec (generic function with 1 method)"
      ]
     },
     "metadata": {},
     "output_type": "display_data"
    }
   ],
   "source": [
    "b0 = -10.0 \n",
    "\n",
    "function p2vec(p)\n",
    "    w_b = p[1:nr] .+ b0;\n",
    "    w_out = reshape(p[nr + 1:end], ns, nr);\n",
    "    # w_out = clamp.(w_out, -2.5, 2.5);\n",
    "    w_in = clamp.(-w_out, 0, 2.5);\n",
    "    return w_in, w_b, w_out\n",
    "end"
   ]
  },
  {
   "cell_type": "code",
   "execution_count": 12,
   "metadata": {},
   "outputs": [],
   "source": [
    "w_b = p[1:nr] .+ b0;\n",
    "w_out = reshape(p[nr + 1:end], ns, nr);\n",
    "# w_out = clamp.(w_out, -2.5, 2.5);\n",
    "w_in = clamp.(-w_out, 0, 2.5);"
   ]
  },
  {
   "cell_type": "code",
   "execution_count": 10,
   "metadata": {},
   "outputs": [
    {
     "data": {
      "text/plain": [
       "24-element Vector{Float32}:\n",
       "  0.07876723\n",
       " -0.008780157\n",
       " -0.24841574\n",
       "  0.12830202\n",
       " -0.12773268\n",
       "  0.08281115\n",
       " -0.031864334\n",
       " -0.18248601\n",
       "  0.13197209\n",
       "  0.05703364\n",
       "  ⋮\n",
       " -0.012400727\n",
       " -0.091067605\n",
       "  0.009974293\n",
       "  0.13283926\n",
       "  0.09126026\n",
       "  0.07269534\n",
       " -0.09951483\n",
       " -0.09825405\n",
       " -0.12484779"
      ]
     },
     "metadata": {},
     "output_type": "display_data"
    }
   ],
   "source": [
    "display(p)"
   ]
  },
  {
   "cell_type": "code",
   "execution_count": 15,
   "metadata": {},
   "outputs": [
    {
     "data": {
      "text/plain": [
       "5×4 Matrix{Float64}:\n",
       " 0.127733   0.0       0.0        0.0\n",
       " 0.0        0.0       0.0124007  0.0\n",
       " 0.0318643  0.0       0.0910676  0.0995148\n",
       " 0.182486   0.106843  0.0        0.098254\n",
       " 0.0        0.0       0.0        0.124848"
      ]
     },
     "metadata": {},
     "output_type": "display_data"
    }
   ],
   "source": [
    "display(w_in)"
   ]
  },
  {
   "cell_type": "code",
   "execution_count": null,
   "metadata": {},
   "outputs": [],
   "source": []
  }
 ],
 "metadata": {
  "kernelspec": {
   "display_name": "Julia 1.6.7",
   "language": "julia",
   "name": "julia-1.6"
  },
  "language_info": {
   "file_extension": ".jl",
   "mimetype": "application/julia",
   "name": "julia",
   "version": "1.6.7"
  }
 },
 "nbformat": 4,
 "nbformat_minor": 2
}
