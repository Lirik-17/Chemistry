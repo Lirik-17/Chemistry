{
 "cells": [
  {
   "cell_type": "code",
   "execution_count": 13,
   "metadata": {},
   "outputs": [],
   "source": [
    "using OrdinaryDiffEq \n",
    "using Flux\n",
    "using Random\n",
    "using Plots\n",
    "using Optim\n",
    "using Zygote\n",
    "using ForwardDiff\n",
    "using LinearAlgebra, Statistics\n",
    "using ProgressBars, Printf\n",
    "using Flux.Optimise: update!, ExpDecay\n",
    "using Flux.Losses: mae, mse\n",
    "using BSON: @save, @load\n",
    "using DiffEqBase"
   ]
  },
  {
   "cell_type": "code",
   "execution_count": 14,
   "metadata": {},
   "outputs": [],
   "source": [
    "Random.seed!(1234);"
   ]
  },
  {
   "cell_type": "code",
   "execution_count": 18,
   "metadata": {},
   "outputs": [],
   "source": [
    "# Входные параметры\n",
    "\n",
    "is_restart = false;\n",
    "p_cutoff = 0.0;                                                     # Непонятно для чего\n",
    "n_epoch = 1000;                                                     # Количество эпох. Максимальное\n",
    "n_plot = 100;                                                       # Частота формирования графиков. Через сколько эпох\n",
    "opt = ADAMW(0.001, (0.9, 0.999), 1.f-8);                            # Оптимизатор\n",
    "datasize = 10;                                                      # Размер датасетов?\n",
    "tstep = 1;                                                          # Шаг времени для татасетов? или типа их количество?\n",
    "n_exp_train = 6;                                                    # Размер данных для обучения\n",
    "n_exp_test = 2;                                                     # Размер даных для теста\n",
    "n_exp = n_exp_train + n_exp_test;                                   # Общий размер данных\n",
    "noise = 5.f-2;                                                      # ШУМ\n",
    "ns = 5;                                                             # Количество веществ\n",
    "nr = 4;                                                             # Количество хим. реакций\n",
    "k = Float32[0.1, 0.2, 0.13, 0.3];                                   # константы хим. реакций\n",
    "alg = Tsit5();                                                      # Алгоритм для решения ОДУ?\n",
    "atol = 1e-5;                                                        # Параметр точности для ОДУ\n",
    "rtol = 1e-2;                                                        # Параметр точности для ОДУ\n",
    "\n",
    "maxiters = 10000;                                                   # Не понял для чего нужно\n",
    "\n",
    "lb = 1.f-5;\n",
    "ub = 1.f1;"
   ]
  },
  {
   "cell_type": "code",
   "execution_count": 19,
   "metadata": {},
   "outputs": [],
   "source": [
    "# Generate data sets\n",
    "u0_list = rand(Float32, (n_exp, ns));\n",
    "u0_list[:, 1:2] .+= 2.f-1;\n",
    "u0_list[:, 3:end] .= 0.f0;\n",
    "\n",
    "# В результате u0_list - матрица ns столбцов и n_exp строк, в которой 3+ столбцы нули\n",
    "tspan = Float32[0.0, datasize * tstep];\n",
    "tsteps = range(tspan[1], tspan[2], length=datasize);\n",
    "ode_data_list = zeros(Float32, (n_exp, ns, datasize));\n",
    "std_list = [];"
   ]
  },
  {
   "cell_type": "markdown",
   "metadata": {},
   "source": [
    "* u0_list       - матрциа размерности n_exp * ns\n",
    "* tspan         - список из двух элементов, где первый элемент = 0, это начало времени, а второй = datasize * tstep, коненц времени\n",
    "* tsteps        - что-то типа списка с границами tspan, и некоторым шагом\n",
    "* ode_data_list - datasize матриц размерности n_exp * ns, заполненные 0"
   ]
  },
  {
   "cell_type": "code",
   "execution_count": 20,
   "metadata": {},
   "outputs": [
    {
     "name": "stdout",
     "output_type": "stream",
     "text": [
      "10"
     ]
    }
   ],
   "source": [
    "# display(tsteps)\n",
    "print(length(tsteps))"
   ]
  },
  {
   "cell_type": "code",
   "execution_count": 21,
   "metadata": {},
   "outputs": [
    {
     "data": {
      "text/plain": [
       "max_min (generic function with 1 method)"
      ]
     },
     "metadata": {},
     "output_type": "display_data"
    }
   ],
   "source": [
    "function max_min(ode_data)\n",
    "    return maximum(ode_data, dims=2) .- minimum(ode_data, dims=2) .+ lb\n",
    "end\n",
    "\n",
    "# Выдает разницу между максимальным и минимальным значением в ode_data"
   ]
  },
  {
   "cell_type": "code",
   "execution_count": 22,
   "metadata": {},
   "outputs": [
    {
     "data": {
      "text/plain": [
       "trueODEfunc (generic function with 1 method)"
      ]
     },
     "metadata": {},
     "output_type": "display_data"
    }
   ],
   "source": [
    "function trueODEfunc(dydt, y, k, t)\n",
    "    dydt[1] = -2 * k[1] * y[1]^2 - k[2] * y[1];\n",
    "    dydt[2] = k[1] * y[1]^2 - k[4] * y[2] * y[4];\n",
    "    dydt[3] = k[2] * y[1] - k[3] * y[3];\n",
    "    dydt[4] = k[3] * y[3] - k[4] * y[2] * y[4];\n",
    "    dydt[5] = k[4] * y[2] * y[4];\n",
    "end\n",
    "\n",
    "# Это процедура, которая описывает, как изменяются переменные в системе ОДУ по времени."
   ]
  },
  {
   "cell_type": "code",
   "execution_count": 23,
   "metadata": {},
   "outputs": [],
   "source": [
    "# Дале идет цикл с решением ODE для каждой строки матрицы u0_list.\n",
    "# Решение записывается в std_list\n",
    "\n",
    "for i in 1:n_exp\n",
    "    u0 = u0_list[i, :];                                          # Берется i-я строка из u0_list начальных условий\n",
    "    prob_trueode = ODEProblem(trueODEfunc, u0, tspan, k);        # ODEProblem не вызывает trueODEfunc напрямую,\n",
    "    # она используется для создания объекта задачи ODEProblem, который потом решается с помощью solve()\n",
    "    ode_data = Array(solve(prob_trueode, alg, saveat=tsteps));   # Матрица решений ОДУ, alg - алгоритм решения ОДУ\n",
    "    ode_data += randn(size(ode_data)) .* ode_data .* noise       # Шумы из N(0,1)\n",
    "    ode_data_list[i, :, :] = ode_data                            # тут шумы добавляются в матрицу\n",
    "    push!(std_list, max_min(ode_data));\n",
    "end\n",
    "\n",
    "y_std = maximum(hcat(std_list...), dims=2);                      # Вектор наибольшей разницы "
   ]
  },
  {
   "cell_type": "code",
   "execution_count": 30,
   "metadata": {},
   "outputs": [
    {
     "data": {
      "text/plain": [
       "8×5 Matrix{Float32}:\n",
       " 0.904014  0.970691  0.0  0.0  0.0\n",
       " 0.655972  0.345809  0.0  0.0  0.0\n",
       " 0.574945  0.601094  0.0  0.0  0.0\n",
       " 0.592067  0.33847   0.0  0.0  0.0\n",
       " 0.564764  0.483114  0.0  0.0  0.0\n",
       " 1.07192   0.489664  0.0  0.0  0.0\n",
       " 0.721312  1.15312   0.0  0.0  0.0\n",
       " 0.827637  0.505209  0.0  0.0  0.0"
      ]
     },
     "metadata": {},
     "output_type": "display_data"
    },
    {
     "name": "stdout",
     "output_type": "stream",
     "text": [
      "\n",
      "Float32[0.6559718, 0.34580928, 0.0, 0.0, 0.0]\n"
     ]
    }
   ],
   "source": [
    "display(u0_list)\n",
    "println()\n",
    "println(u0_list[2, :])"
   ]
  },
  {
   "cell_type": "code",
   "execution_count": 25,
   "metadata": {},
   "outputs": [
    {
     "data": {
      "text/plain": [
       "8×5×10 Array{Float32, 3}:\n",
       "[:, :, 1] =\n",
       " 0.90039   0.917729  0.0  0.0  0.0\n",
       " 0.623792  0.340339  0.0  0.0  0.0\n",
       " 0.563182  0.53773   0.0  0.0  0.0\n",
       " 0.564417  0.352408  0.0  0.0  0.0\n",
       " 0.567445  0.46871   0.0  0.0  0.0\n",
       " 1.06835   0.494149  0.0  0.0  0.0\n",
       " 0.636599  1.1738    0.0  0.0  0.0\n",
       " 0.770717  0.484154  0.0  0.0  0.0\n",
       "\n",
       "[:, :, 2] =\n",
       " 0.609875  1.04043   0.150371  0.0102589   0.00128354\n",
       " 0.466398  0.363905  0.111388  0.00784829  0.000363827\n",
       " 0.415188  0.568552  0.100191  0.00742861  0.00051709\n",
       " 0.419698  0.343974  0.108496  0.00793453  0.000319453\n",
       " 0.412483  0.499902  0.102479  0.00680075  0.000410151\n",
       " 0.73858   0.587201  0.188421  0.0130019   0.000849028\n",
       " 0.503916  1.12859   0.126052  0.00874609  0.00106054\n",
       " 0.570991  0.569827  0.137681  0.00989026  0.000664997\n",
       "\n",
       "[:, :, 3] =\n",
       " 0.410822  1.0261    0.231566  0.0312611  0.00858676\n",
       " 0.343592  0.369983  0.190035  0.026711   0.00277421\n",
       " 0.302677  0.639492  0.156515  0.0248317  0.00361462\n",
       " 0.336351  0.402802  0.173517  0.0257524  0.00242381\n",
       " 0.323025  0.521877  0.152461  0.0244639  0.0029991\n",
       " 0.538352  0.619781  0.278357  0.0405222  0.00618668\n",
       " 0.385214  1.24166   0.197172  0.0264822  0.00785325\n",
       " 0.413702  0.588906  0.225133  0.031327   0.00493223\n",
       "\n",
       "[:, :, 4] =\n",
       " 0.330642  1.18257   0.280726  0.0586748  0.0241463\n",
       " 0.238772  0.393519  0.231516  0.0554999  0.00825443\n",
       " 0.228687  0.666693  0.179236  0.0367964  0.0111796\n",
       " 0.235186  0.383987  0.217258  0.0494555  0.0068467\n",
       " 0.230291  0.523113  0.176492  0.0392553  0.00908376\n",
       " 0.361493  0.644774  0.30675   0.075052   0.0158943\n",
       " 0.271722  1.21003   0.238971  0.0481332  0.0236147\n",
       " 0.310866  0.56476   0.26162   0.0571595  0.0144389\n",
       "\n",
       "[:, :, 5] =\n",
       " 0.229743  0.989537  0.327105  0.0732004  0.0433861\n",
       " 0.20088   0.398837  0.242825  0.07334    0.0168219\n",
       " 0.189706  0.585813  0.20074   0.0607583  0.0224818\n",
       " 0.182519  0.376496  0.233126  0.0704447  0.014906\n",
       " 0.162491  0.52662   0.194048  0.0652289  0.0185119\n",
       " 0.268333  0.611865  0.350487  0.101074   0.0358853\n",
       " 0.204549  1.24016   0.254281  0.0551925  0.0400897\n",
       " 0.241648  0.542247  0.273324  0.0819471  0.0274602\n",
       "\n",
       "[:, :, 6] =\n",
       " 0.186475  1.0401    0.301292  0.0925686  0.0780785\n",
       " 0.143309  0.421674  0.232471  0.105616   0.0279334\n",
       " 0.130652  0.658925  0.202307  0.0723315  0.0345758\n",
       " 0.127841  0.420115  0.201792  0.0914217  0.0241571\n",
       " 0.132659  0.517013  0.230878  0.0760296  0.0308887\n",
       " 0.19065   0.56464   0.357934  0.131832   0.0653505\n",
       " 0.1567    1.11406   0.244435  0.0692457  0.0673852\n",
       " 0.171821  0.638389  0.303647  0.111227   0.0461361\n",
       "\n",
       "[:, :, 7] =\n",
       " 0.144365  1.08982   0.278491  0.103114   0.104087\n",
       " 0.113547  0.368539  0.240042  0.120409   0.0467922\n",
       " 0.115758  0.567675  0.208893  0.0946717  0.0561877\n",
       " 0.108859  0.337942  0.196561  0.112604   0.0357098\n",
       " 0.106665  0.453858  0.211029  0.0969534  0.0437451\n",
       " 0.152546  0.58896   0.325798  0.154396   0.0878713\n",
       " 0.109562  1.15888   0.262407  0.0836475  0.0977263\n",
       " 0.14043   0.557235  0.288578  0.125069   0.0669763\n",
       "\n",
       "[:, :, 8] =\n",
       " 0.112329   0.879466  0.257283  0.110643   0.148371\n",
       " 0.0907815  0.360965  0.228019  0.129779   0.059924\n",
       " 0.0847566  0.584991  0.205479  0.101695   0.0734392\n",
       " 0.0861895  0.374523  0.201521  0.132792   0.053286\n",
       " 0.075968   0.446761  0.188028  0.108117   0.0625282\n",
       " 0.125089   0.53504   0.322518  0.1719     0.12733\n",
       " 0.0980623  1.20057   0.257012  0.0794686  0.126385\n",
       " 0.0972701  0.533931  0.276991  0.155143   0.0851552\n",
       "\n",
       "[:, :, 9] =\n",
       " 0.0840454  0.932936  0.253434  0.116067   0.17076\n",
       " 0.0749326  0.348942  0.212959  0.140619   0.0885273\n",
       " 0.0630597  0.621423  0.185291  0.118176   0.103494\n",
       " 0.0700219  0.325473  0.189337  0.133465   0.0696741\n",
       " 0.0677597  0.444562  0.189841  0.112049   0.0779864\n",
       " 0.106596   0.493747  0.298752  0.176183   0.160652\n",
       " 0.075659   1.09942   0.222     0.0869897  0.146508\n",
       " 0.0800521  0.490316  0.263667  0.159953   0.122105\n",
       "\n",
       "[:, :, 10] =\n",
       " 0.0693483  0.835426  0.257619  0.118005   0.226223\n",
       " 0.0587066  0.339984  0.203039  0.15963    0.0906132\n",
       " 0.0552967  0.533656  0.187522  0.110361   0.10354\n",
       " 0.0504872  0.307288  0.187133  0.140745   0.0763928\n",
       " 0.0479623  0.443835  0.184235  0.123109   0.105644\n",
       " 0.0743191  0.50901   0.270983  0.185949   0.182559\n",
       " 0.0591874  1.03693   0.206793  0.0823152  0.178554\n",
       " 0.0637598  0.471695  0.2343    0.165637   0.149148"
      ]
     },
     "metadata": {},
     "output_type": "display_data"
    }
   ],
   "source": [
    "display(ode_data_list)"
   ]
  },
  {
   "cell_type": "markdown",
   "metadata": {},
   "source": [
    "Более подробное разъяснение строки \n",
    "\n",
    "``` prob_trueode = ODEProblem(trueODEfunc, u0, tspan, k); ```"
   ]
  },
  {
   "cell_type": "markdown",
   "metadata": {},
   "source": [
    "* prob_trueode = ODEProblem(trueODEfunc, u0, tspan, k);\n",
    "* Создается задача для решения системы ОДУ, где \n",
    "* trueODEfunc  - функция, описывающая систему ОДУ\n",
    "* u0           - начальные условия \n",
    "* tspan        - врменной интервал \n",
    "* k            - параметры системы, которые могут влиять на поведение ОДУ\n",
    "* prob_trueode - это объект, описывающий задачу для последующего решения ОДУ"
   ]
  },
  {
   "cell_type": "code",
   "execution_count": null,
   "metadata": {},
   "outputs": [],
   "source": [
    "u0 = u0_list[1, :]\n",
    "p = randn(Float32, nr * (ns + 1)) .* 1.f-1;             # Рандомный вектор длины nr * (ns + 1)"
   ]
  },
  {
   "cell_type": "code",
   "execution_count": null,
   "metadata": {},
   "outputs": [],
   "source": [
    "b0 = -10.0 \n",
    "\n",
    "function p2vec(p)\n",
    "    w_b = p[1:nr] .+ b0;                        # вектор смещений\n",
    "    w_out = reshape(p[nr + 1:end], ns, nr);     # матрица будущих весов нейронной сети??\n",
    "    # w_out = clamp.(w_out, -2.5, 2.5);\n",
    "    w_in = clamp.(-w_out, 0, 2.5);              # Конвертируют w_out, и все числа к диапазону [0, 2.5]\n",
    "    return w_in, w_b, w_out\n",
    "end"
   ]
  },
  {
   "cell_type": "markdown",
   "metadata": {},
   "source": [
    "Функция ```p2vec(p)``` берет вектор параметров p, и преобразует в три компоненты: входные веса, смещения и выходные веса"
   ]
  },
  {
   "cell_type": "code",
   "execution_count": null,
   "metadata": {},
   "outputs": [],
   "source": [
    "function crnn!(du, u, p, t)\n",
    "    w_in_x = w_in' * @. log(clamp(u, lb, ub));\n",
    "    du .= w_out * @. exp(w_in_x + w_b);\n",
    "end"
   ]
  },
  {
   "cell_type": "markdown",
   "metadata": {},
   "source": [
    "`w_in'` — транспонированная матрица <br>\n",
    "`clamp(u, lb, ub)` — ограничивает значение вектора `u` в пределах от `lb` до `ub`<br>\n",
    "`log(clamp(u, lb, ub))` — поэлементное взятие логарифма от ограниченных значений <br>\n",
    "`@.` — макрос, который автоматически применяет все операции поэлементно (векторизует их), сокращая необходимость писать `.`, например, в `log.` <br>\n",
    "`du .= ...` — обновление вектора du поэлементно новыми значениями <br>\n",
    "<br>\n",
    "<br>\n",
    "функция `crnn!` обновляет вектор `du`"
   ]
  },
  {
   "cell_type": "code",
   "execution_count": null,
   "metadata": {},
   "outputs": [],
   "source": [
    "prob = ODEProblem(crnn!, u0, tspan, saveat=tsteps, atol=atol, rtol=rtol)"
   ]
  },
  {
   "cell_type": "markdown",
   "metadata": {},
   "source": [
    "`prob = ODEProblem(...)` создает объект задачи для решения системы ОДУ. Этот объект включает в себя: <br>\n",
    "* Определение функции ОДУ (`crnn!`), которая описывает изменение переменных во времени. <br>\n",
    "* Начальные условия (`u0`), задающие начальное состояние системы. <br>\n",
    "* Интервал времени для решения (`tspan`). <br>\n",
    "* Параметры точности решения (абсолютная и относительная ошибки). <br>\n",
    "* Временные точки, в которых необходимо сохранить решение (`saveat=tsteps`). <br>\n",
    "Решение задачи: После создания объекта `prob` его можно передать в численный решатель, например, с помощью функции `solve`, чтобы найти решение системы дифференциальных уравнений. Решение будет возвращено в виде набора значений переменных в заданные моменты времени. <br>\n",
    "<br>\n",
    "После этого нужно вызывать `solve()`"
   ]
  },
  {
   "cell_type": "code",
   "execution_count": null,
   "metadata": {},
   "outputs": [],
   "source": [
    "function predict_neuralode(u0, p)\n",
    "    global w_in, w_b, w_out = p2vec(p);\n",
    "    pred = clamp.(Array(solve(prob, alg, u0=u0, p=p;\n",
    "                  maxiters=maxiters)), -ub, ub)\n",
    "    return pred\n",
    "end"
   ]
  },
  {
   "cell_type": "markdown",
   "metadata": {},
   "source": [
    "Здесь используется ключевое слово `global`, потому что `w_in`, `w_b`, и `w_out` объявлены как глобальные переменные, и их нужно обновить для последующих вычислений. <br>\n",
    "`pred = clamp.(Array(solve(prob, alg, u0=u0, p=p; maxiters=maxiters)), -ub, ub)` - Это основная строка, в которой происходит решение системы дифференциальных уравнений и получение предсказания. <br>\n",
    "`clamp.` — это поэлементная операция, которая ограничивает значения предсказаний в пределах от `-ub` до `ub`.\n",
    "`maxiters` - макисмальное число операций, которые решатель может выполнить. <br>\n",
    "<br>\n",
    "<br>\n",
    "Эта функция используется для предсказания на основе нейронной ODE-модели, которая основана на дифференциальных уравнениях."
   ]
  },
  {
   "cell_type": "markdown",
   "metadata": {},
   "source": []
  },
  {
   "cell_type": "code",
   "execution_count": null,
   "metadata": {},
   "outputs": [],
   "source": [
    "function display_p(p)\n",
    "    w_in, w_b, w_out = p2vec(p);\n",
    "    println(\"species (column) reaction (row)\")\n",
    "    println()\n",
    "    println(\"w_in\")\n",
    "    show(stdout, \"text/plain\", round.(w_in', digits=3))\n",
    "\n",
    "    println(\"\\nw_b\")\n",
    "    show(stdout, \"text/plain\", round.(exp.(w_b'), digits=3))\n",
    "\n",
    "    println(\"\\nw_out\")\n",
    "    show(stdout, \"text/plain\", round.(w_out', digits=3))\n",
    "    println(\"\\n\\n\")\n",
    "end\n",
    "display_p(p)"
   ]
  },
  {
   "cell_type": "markdown",
   "metadata": {},
   "source": [
    "Итого: функция `display_p` превращает вектор параметров `p` в три компонента: входные веса `w_in`, смещения `w_b` и выходные веса `w_out`"
   ]
  },
  {
   "cell_type": "code",
   "execution_count": null,
   "metadata": {},
   "outputs": [],
   "source": [
    "function loss_neuralode(p, i_exp)\n",
    "    pred = predict_neuralode(u0_list[i_exp, :], p)\n",
    "    loss = mae(ode_data_list[i_exp, :, :] ./ y_std, pred ./ y_std)\n",
    "    return loss\n",
    "end"
   ]
  },
  {
   "cell_type": "markdown",
   "metadata": {},
   "source": [
    "Функция принимает два аргумента:\n",
    "* `p` — вектор параметров нейронной сети (веса и смещения), которые используются для вычисления предсказаний.\n",
    "* `i_exp` — индекс эксперимента, который указывает на конкретный набор данных, с которым будет сравниваться предсказание.\n",
    "\n",
    "`predict_neuralode` - функция, записанная ранее, она возвращает массив педсказанных значений\n",
    "`loss = mae(ode_data_list[i_exp, :, :] ./ y_std, pred ./ y_std)` - вычисляется ошибка между реальными данными `ode_data_list[i_exp, :, :]` и предсказаниями `pred` <br>\n",
    "<br>\n",
    "`y_std` — это стандартное отклонение (нормировочный коэффициент), которое используется для масштабирования как реальных данных, так и предсказаний. <br>\n",
    "`./ y_std` — операция поэлементного деления на стандартное отклонение для нормализации данных (как реальных, так и предсказанных значений). <br>\n",
    "`mae` — это функция для вычисления среднеабсолютной ошибки (Mean Absolute Error), которая измеряет среднее по всем значениям разницу между предсказанными и реальными данными после нормализации. <br>\n",
    "<br>\n",
    "<br>\n",
    "В результате функция вычисляет и возвращает значение ошибки (разницу по mae между реалдьными и предсказанными данными) для конкретного эксперимента"
   ]
  },
  {
   "cell_type": "code",
   "execution_count": null,
   "metadata": {},
   "outputs": [],
   "source": [
    "species = [\"A\", \"B\", \"C\", \"D\", \"E\"];\n",
    "cbi = function (p, i_exp)\n",
    "    ode_data = ode_data_list[i_exp, :, :]\n",
    "    pred = predict_neuralode(u0_list[i_exp, :], p)\n",
    "    list_plt = []\n",
    "    for i in 1:ns                                                      # Цикл по всем участвующим веществам\n",
    "        plt = scatter(tsteps, ode_data[i,:], \n",
    "                      markercolor=:transparent,                        # Цвет маркеров\n",
    "                      label=\"Exp\",                                     # Подпись для легенды\n",
    "                      framestyle=:box)                                 # Стиль рамки графика\n",
    "        plot!(plt, tsteps, pred[i,:], label=\"CRNN-ODE\")                # Добавление на тот же график значений pred[i, :] для i-го компонента\n",
    "        plot!(xlabel=\"Time\", ylabel=\"Concentration of \" * species[i])  # Установка подписей для осей графика:\n",
    "\n",
    "        # Какая-то тема с легендами, не важно\n",
    "        if i==1\n",
    "            plot!(plt, legend=true, framealpha=0)\n",
    "        else\n",
    "            plot!(plt, legend=false)\n",
    "        end\n",
    "\n",
    "        push!(list_plt, plt)                                           # list_plt содержит в себе все графики\n",
    "    end\n",
    "    plt_all = plot(list_plt...)                                        # объединение всех графиков list_plt в один большой график\n",
    "\n",
    "    png(plt_all, string(joinpath(@__DIR__, \"figs\", \"\"), i_exp))        # сохранение объединения графиков в папке в виде .png                                            # Здесь сохраняется png файл\n",
    "    # joinpath самостоятельно определяет относительный путь к папке/файлу\n",
    "    \n",
    "    return false\n",
    "end"
   ]
  },
  {
   "cell_type": "markdown",
   "metadata": {},
   "source": [
    "* `ode_data = ode_data_list[i_exp, :, :]` - Получение реальных данных для эксперимента с индексом `i_exp` из массива `ode_data_list`, который содержит результаты симуляций (реальные данные). Эти данные будут использоваться для построения графиков. <br>\n",
    "* `pred` — предсказания нейронной сети, которые будут отображены на графике для сравнения с реальными данными.\n",
    "* `plt = scatter(tsteps, ode_data[i,:], markercolor=:transparent, label=\"Exp\", framestyle=:box)` - \n",
    "* `ode_data[i,:]` - реальные данные для компонента i (по оси Y) <br>\n",
    "<br>\n",
    "<br>\n",
    "Функция cbi визуализирует результаты экспериментов, сравнивая реальные данные с предсказаниями модели CRNN-ODE. Она создает и сохраняет графики для каждого компонента, выводя на экран данные по концентрациям компонентов с течением времени."
   ]
  },
  {
   "cell_type": "code",
   "execution_count": null,
   "metadata": {},
   "outputs": [],
   "source": [
    "list_loss_train = []\n",
    "list_loss_val = []\n",
    "iter = 1"
   ]
  },
  {
   "cell_type": "code",
   "execution_count": null,
   "metadata": {},
   "outputs": [],
   "source": [
    "cb = function (p, loss_train, loss_val)\n",
    "    global list_loss_train, list_loss_val, iter          # Чтобы изменения этих переменных сохранялись глобально\n",
    "    push!(list_loss_train, loss_train)                   # добавляет значение ошибки на трейне `loss_train` в глобальный список `list_loss_train`\n",
    "    push!(list_loss_val, loss_val)                       # добавляет значение ошибки на валид. выборке `loss_val` в глобальный список `list_loss_val`\n",
    "\n",
    "    if iter % n_plot == 0    \n",
    "        display_p(p)\n",
    "\n",
    "        @printf(\"min loss train: %.4e, and validation: %.4e\\n\", minimum(list_loss_train), minimum(list_loss_val))\n",
    "        # Выводит минимальные значения ошибок на train and validat наборах данных в формате %.4e - експоненциальная форма\n",
    "\n",
    "        list_exp = randperm(n_exp)[1:1];\n",
    "        println(\"update plot for \", list_exp)\n",
    "        for i_exp in list_exp\n",
    "            cbi(p, i_exp)                                                     # строит и сохраняет графики\n",
    "        end\n",
    "\n",
    "        plt_loss = plot(list_loss_train, xscale=:log10, yscale=:log10, label=\"train\");     # создает график ошибок на train наборе\n",
    "        plot!(plt_loss, list_loss_val, label=\"val\");                          # добавляет к этому же графику кривую на validat наборе\n",
    "\n",
    "\n",
    "        png(plt_loss, joinpath(@__DIR__, \"figs\", \"loss.png\"));                # тут сохраняюется loss файл\n",
    "\n",
    "        @save joinpath(@__DIR__, \"checkpoint\", \"mymodel.bson\") p opt list_loss_train list_loss_val iter                 # тут сохраняется bson файл\n",
    "    end\n",
    "\n",
    "    iter += 1;\n",
    "end"
   ]
  },
  {
   "cell_type": "markdown",
   "metadata": {},
   "source": [
    "* `loss_train` — значение ошибки на тренировочном наборе.\n",
    "* `loss_val` — значение ошибки на валидационном наборе.\n",
    "\n",
    "`if iter % n_plot == 0 ` запускается, если текущая итерация `iter` делится на n_plot без остатка. Это частота формирвоания графиков <br><br>\n",
    "`list_exp = randperm(n_exp)[1:1];` генерирует одно \"случайное\" число от `1` до `n_exp-1` <br><br>\n",
    "`@save joinpath(@__DIR__, \"checkpoint\", \"mymodel.bson\") p opt list_loss_train list_loss_val iter` сохраняет текущие параметры модели `p`, оптимизатор `opt`, списки ошибок `list_loss_train`, и `list_loss_val`, а также текущую итерацию `iter` в файл `mymodel.bson`"
   ]
  },
  {
   "cell_type": "code",
   "execution_count": null,
   "metadata": {},
   "outputs": [],
   "source": [
    "if is_restart\n",
    "    #@load \"./checkpoint/mymodel.bson\" p opt list_loss_train list_loss_val iter;                                        Переписываю путь\n",
    "    @load joinpath(@__DIR__, \"checkpoint\", \"mymodel.bson\") p opt list_loss_train list_loss_val iter;                         # тут читается bson файл\n",
    "    iter += 1; \n",
    "end"
   ]
  },
  {
   "cell_type": "code",
   "execution_count": null,
   "metadata": {},
   "outputs": [],
   "source": [
    "i_exp = 1\n",
    "epochs = ProgressBar(iter:n_epoch)                  \n",
    "loss_epoch = zeros(Float32, n_exp);\n",
    "for epoch in epochs                                                # Основной цикл по эпохам\n",
    "    global p\n",
    "    for i_exp in randperm(n_exp_train) \n",
    "\n",
    "        grad = gradient(p) do x\n",
    "            Zygote.forwarddiff(x) do x\n",
    "                loss_neuralode(x, i_exp)\n",
    "            end\n",
    "        end\n",
    "        update!(opt, p, grad[1])                                   # Изменяет параметр p по оптимизатору opt в соответствии с градиентом\n",
    "    end\n",
    "\n",
    "    for i_exp in 1:n_exp                                           # После обновления параметров вычисляется значение ошибки для каждого эксперимента\n",
    "        loss_epoch[i_exp] = loss_neuralode(p, i_exp)\n",
    "    end\n",
    "\n",
    "    loss_train = mean(loss_epoch[1:n_exp_train]);                  # средняя ошибка для тестового набора\n",
    "    loss_val = mean(loss_epoch[n_exp_train + 1:end]);              # средняя ошибка для валидационного набора\n",
    "    set_description(epochs, string(@sprintf(\"Loss train %.4e val %.4e\", loss_train, loss_val)))\n",
    "    cb(p, loss_train, loss_val);\n",
    "end"
   ]
  },
  {
   "cell_type": "code",
   "execution_count": null,
   "metadata": {},
   "outputs": [],
   "source": [
    "for i_exp in randperm(n_exp_train)\n",
    "    println(i_exp)\n",
    "end"
   ]
  },
  {
   "cell_type": "markdown",
   "metadata": {},
   "source": [
    "`epochs = ProgressBar(iter:n_epoch)` создает индикатор прогресса эпох от iter до n_epoch <br>\n",
    "В `loss_epoch` будет храниться значение ошибки для каждого эксперимента <br><br>\n",
    "`for i_exp in randperm(n_exp_train)` начало цикла по перемешанному вектору значений от 1 до `n_exp_train` <br><br>\n",
    "`set_description(epochs, string(@sprintf(\"Loss train %.4e val %.4e\", loss_train, loss_val)))` нужно для динамического обновления прогресс-бара значениями потерь на обучающей и валидационной выборках, чтобы можно было отслеживать их изменения в реальном времени."
   ]
  },
  {
   "cell_type": "markdown",
   "metadata": {},
   "source": []
  },
  {
   "cell_type": "code",
   "execution_count": null,
   "metadata": {},
   "outputs": [],
   "source": [
    "println(predict_neuralode(u0_list[i_exp, :], p))"
   ]
  },
  {
   "cell_type": "code",
   "execution_count": null,
   "metadata": {},
   "outputs": [],
   "source": []
  }
 ],
 "metadata": {
  "kernelspec": {
   "display_name": "Julia 1.6.7",
   "language": "julia",
   "name": "julia-1.6"
  },
  "language_info": {
   "file_extension": ".jl",
   "mimetype": "application/julia",
   "name": "julia",
   "version": "1.6.7"
  }
 },
 "nbformat": 4,
 "nbformat_minor": 2
}
