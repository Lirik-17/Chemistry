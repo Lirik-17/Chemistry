{
 "cells": [
  {
   "cell_type": "code",
   "execution_count": 13,
   "metadata": {},
   "outputs": [],
   "source": [
    "using OrdinaryDiffEq \n",
    "using Flux\n",
    "using Random\n",
    "using Plots\n",
    "using Optim\n",
    "using Zygote\n",
    "using ForwardDiff\n",
    "using LinearAlgebra, Statistics\n",
    "using ProgressBars, Printf\n",
    "using Flux.Optimise: update!, ExpDecay\n",
    "using Flux.Losses: mae, mse\n",
    "using BSON: @save, @load\n",
    "using DiffEqBase"
   ]
  },
  {
   "cell_type": "code",
   "execution_count": 14,
   "metadata": {},
   "outputs": [],
   "source": [
    "Random.seed!(1234);"
   ]
  },
  {
   "cell_type": "code",
   "execution_count": 18,
   "metadata": {},
   "outputs": [],
   "source": [
    "# Входные параметры\n",
    "\n",
    "is_restart = false;\n",
    "p_cutoff = 0.0;                                                     # Непонятно для чего\n",
    "n_epoch = 1000;                                                     # Количество эпох. Максимальное\n",
    "n_plot = 100;                                                       # Частота формирования графиков. Через сколько эпох\n",
    "opt = ADAMW(0.001, (0.9, 0.999), 1.f-8);                            # Оптимизатор\n",
    "datasize = 10;                                                      # Размер датасетов?\n",
    "tstep = 1;                                                          # Шаг времени для татасетов? или типа их количество?\n",
    "n_exp_train = 6;                                                    # Размер данных для обучения\n",
    "n_exp_test = 2;                                                     # Размер даных для теста\n",
    "n_exp = n_exp_train + n_exp_test;                                   # Общий размер данных\n",
    "noise = 5.f-2;                                                      # ШУМ\n",
    "ns = 5;                                                             # Количество веществ\n",
    "nr = 4;                                                             # Количество хим. реакций\n",
    "k = Float32[0.1, 0.2, 0.13, 0.3];                                   # константы хим. реакций\n",
    "alg = Tsit5();                                                      # Алгоритм для решения ОДУ?\n",
    "atol = 1e-5;                                                        # Параметр точности для ОДУ\n",
    "rtol = 1e-2;                                                        # Параметр точности для ОДУ\n",
    "\n",
    "maxiters = 10000;                                                   # Не понял для чего нужно\n",
    "\n",
    "lb = 1.f-5;\n",
    "ub = 1.f1;"
   ]
  },
  {
   "cell_type": "code",
   "execution_count": 19,
   "metadata": {},
   "outputs": [],
   "source": [
    "# Generate data sets\n",
    "u0_list = rand(Float32, (n_exp, ns));\n",
    "u0_list[:, 1:2] .+= 2.f-1;\n",
    "u0_list[:, 3:end] .= 0.f0;\n",
    "\n",
    "# В результате u0_list - матрица ns столбцов и n_exp строк, в которой 3+ столбцы нули\n",
    "tspan = Float32[0.0, datasize * tstep];\n",
    "tsteps = range(tspan[1], tspan[2], length=datasize);\n",
    "ode_data_list = zeros(Float32, (n_exp, ns, datasize));\n",
    "std_list = [];"
   ]
  },
  {
   "cell_type": "markdown",
   "metadata": {},
   "source": [
    "* u0_list       - матрциа размерности n_exp * ns\n",
    "* tspan         - список из двух элементов, где первый элемент = 0, это начало времени, а второй = datasize * tstep, коненц времени\n",
    "* tsteps        - что-то типа списка с границами tspan, и некоторым шагом\n",
    "* ode_data_list - datasize матриц размерности n_exp * ns, заполненные 0"
   ]
  },
  {
   "cell_type": "code",
   "execution_count": 20,
   "metadata": {},
   "outputs": [
    {
     "name": "stdout",
     "output_type": "stream",
     "text": [
      "10"
     ]
    }
   ],
   "source": [
    "# display(tsteps)\n",
    "print(length(tsteps))"
   ]
  },
  {
   "cell_type": "code",
   "execution_count": 21,
   "metadata": {},
   "outputs": [
    {
     "data": {
      "text/plain": [
       "max_min (generic function with 1 method)"
      ]
     },
     "metadata": {},
     "output_type": "display_data"
    }
   ],
   "source": [
    "function max_min(ode_data)\n",
    "    return maximum(ode_data, dims=2) .- minimum(ode_data, dims=2) .+ lb\n",
    "end\n",
    "\n",
    "# Выдает разницу между максимальным и минимальным значением в ode_data"
   ]
  },
  {
   "cell_type": "code",
   "execution_count": 22,
   "metadata": {},
   "outputs": [
    {
     "data": {
      "text/plain": [
       "trueODEfunc (generic function with 1 method)"
      ]
     },
     "metadata": {},
     "output_type": "display_data"
    }
   ],
   "source": [
    "function trueODEfunc(dydt, y, k, t)\n",
    "    dydt[1] = -2 * k[1] * y[1]^2 - k[2] * y[1];\n",
    "    dydt[2] = k[1] * y[1]^2 - k[4] * y[2] * y[4];\n",
    "    dydt[3] = k[2] * y[1] - k[3] * y[3];\n",
    "    dydt[4] = k[3] * y[3] - k[4] * y[2] * y[4];\n",
    "    dydt[5] = k[4] * y[2] * y[4];\n",
    "end\n",
    "\n",
    "# Это процедура, которая описывает, как изменяются переменные в системе ОДУ по времени."
   ]
  },
  {
   "cell_type": "code",
   "execution_count": null,
   "metadata": {},
   "outputs": [
    {
     "data": {
      "text/plain": [
       "\u001b[36mODEProblem\u001b[0m with uType \u001b[36mVector{Float32}\u001b[0m and tType \u001b[36mFloat32\u001b[0m. In-place: \u001b[36mtrue\u001b[0m\n",
       "timespan: (0.0f0, 10.0f0)\n",
       "u0: 5-element Vector{Float32}:\n",
       " 0.9040138\n",
       " 0.970691\n",
       " 0.0\n",
       " 0.0\n",
       " 0.0"
      ]
     },
     "metadata": {},
     "output_type": "display_data"
    }
   ],
   "source": [
    "# Дале идет цикл с решением ODE для каждой строки матрицы u0_list.\n",
    "# Решение записывается в std_list\n",
    "\n",
    "for i in 1:n_exp\n",
    "    u0 = u0_list[i, :];                                          # Берется i-я строка из u0_list начальных условий\n",
    "    prob_trueode = ODEProblem(trueODEfunc, u0, tspan, k);        # ODEProblem не вызывает trueODEfunc напрямую,\n",
    "    # она используется для создания объекта задачи ODEProblem, который потом решается с помощью solve()\n",
    "    ode_data = Array(solve(prob_trueode, alg, saveat=tsteps));   # Матрица решений ОДУ, alg - алгоритм решения ОДУ\n",
    "    ode_data += randn(size(ode_data)) .* ode_data .* noise       # Шумы из N(0,1)\n",
    "    ode_data_list[i, :, :] = ode_data                            # тут шумы добавляются в матрицу\n",
    "    push!(std_list, max_min(ode_data));\n",
    "end\n",
    "\n",
    "y_std = maximum(hcat(std_list...), dims=2);                      # Вектор наибольшей разницы "
   ]
  },
  {
   "cell_type": "code",
   "execution_count": 35,
   "metadata": {},
   "outputs": [
    {
     "ename": "UndefVarError",
     "evalue": "UndefVarError: prob_trueode not defined",
     "output_type": "error",
     "traceback": [
      "UndefVarError: prob_trueode not defined\n",
      "\n",
      "Stacktrace:\n",
      " [1] top-level scope\n",
      "   @ c:\\Users\\GeraschenkoKM\\Desktop\\Petrochemistry\\My work CRNN\\Chemistry\\MyTest\\jl_notebook_cell_df34fa98e69747e1a8f8a730347b8e2f_X12sZmlsZQ==.jl:1"
     ]
    }
   ],
   "source": [
    "display(prob_trueode)\n",
    "println()\n",
    "println(u0_list[2, :])"
   ]
  },
  {
   "cell_type": "code",
   "execution_count": 33,
   "metadata": {},
   "outputs": [
    {
     "data": {
      "text/plain": [
       "8×5 Matrix{Float32}:\n",
       " 0.650369  0.997389  0.14455    0.0121908   0.00140996\n",
       " 0.443101  0.380289  0.118619   0.00786439  0.00032052\n",
       " 0.4204    0.616347  0.0987327  0.00746316  0.000510007\n",
       " 0.453911  0.383195  0.104921   0.00778705  0.000313996\n",
       " 0.378089  0.535161  0.104445   0.00660654  0.000410322\n",
       " 0.701261  0.565178  0.192705   0.0117399   0.000849428\n",
       " 0.458629  1.1295    0.120359   0.00789759  0.00127011\n",
       " 0.532997  0.538786  0.130034   0.0100765   0.000708663"
      ]
     },
     "metadata": {},
     "output_type": "display_data"
    }
   ],
   "source": [
    "display(ode_data_list[:, :, 2])"
   ]
  },
  {
   "cell_type": "markdown",
   "metadata": {},
   "source": [
    "Более подробное разъяснение строки \n",
    "\n",
    "``` prob_trueode = ODEProblem(trueODEfunc, u0, tspan, k); ```"
   ]
  },
  {
   "cell_type": "markdown",
   "metadata": {},
   "source": [
    "* prob_trueode = ODEProblem(trueODEfunc, u0, tspan, k);\n",
    "* Создается задача для решения системы ОДУ, где \n",
    "* trueODEfunc  - функция, описывающая систему ОДУ\n",
    "* u0           - начальные условия \n",
    "* tspan        - врменной интервал \n",
    "* k            - параметры системы, которые могут влиять на поведение ОДУ\n",
    "* prob_trueode - это объект, описывающий задачу для последующего решения ОДУ"
   ]
  },
  {
   "cell_type": "code",
   "execution_count": null,
   "metadata": {},
   "outputs": [],
   "source": [
    "u0 = u0_list[1, :]\n",
    "p = randn(Float32, nr * (ns + 1)) .* 1.f-1;             # Рандомный вектор длины nr * (ns + 1)"
   ]
  },
  {
   "cell_type": "code",
   "execution_count": null,
   "metadata": {},
   "outputs": [],
   "source": [
    "b0 = -10.0 \n",
    "\n",
    "function p2vec(p)\n",
    "    w_b = p[1:nr] .+ b0;                        # вектор смещений\n",
    "    w_out = reshape(p[nr + 1:end], ns, nr);     # матрица будущих весов нейронной сети??\n",
    "    # w_out = clamp.(w_out, -2.5, 2.5);\n",
    "    w_in = clamp.(-w_out, 0, 2.5);              # Конвертируют w_out, и все числа к диапазону [0, 2.5]\n",
    "    return w_in, w_b, w_out\n",
    "end"
   ]
  },
  {
   "cell_type": "markdown",
   "metadata": {},
   "source": [
    "Функция ```p2vec(p)``` берет вектор параметров p, и преобразует в три компоненты: входные веса, смещения и выходные веса"
   ]
  },
  {
   "cell_type": "code",
   "execution_count": null,
   "metadata": {},
   "outputs": [],
   "source": [
    "function crnn!(du, u, p, t)\n",
    "    w_in_x = w_in' * @. log(clamp(u, lb, ub));\n",
    "    du .= w_out * @. exp(w_in_x + w_b);\n",
    "end"
   ]
  },
  {
   "cell_type": "markdown",
   "metadata": {},
   "source": [
    "`w_in'` — транспонированная матрица <br>\n",
    "`clamp(u, lb, ub)` — ограничивает значение вектора `u` в пределах от `lb` до `ub`<br>\n",
    "`log(clamp(u, lb, ub))` — поэлементное взятие логарифма от ограниченных значений <br>\n",
    "`@.` — макрос, который автоматически применяет все операции поэлементно (векторизует их), сокращая необходимость писать `.`, например, в `log.` <br>\n",
    "`du .= ...` — обновление вектора du поэлементно новыми значениями <br>\n",
    "<br>\n",
    "<br>\n",
    "функция `crnn!` обновляет вектор `du`"
   ]
  },
  {
   "cell_type": "code",
   "execution_count": null,
   "metadata": {},
   "outputs": [],
   "source": [
    "prob = ODEProblem(crnn!, u0, tspan, saveat=tsteps, atol=atol, rtol=rtol)"
   ]
  },
  {
   "cell_type": "markdown",
   "metadata": {},
   "source": [
    "`prob = ODEProblem(...)` создает объект задачи для решения системы ОДУ. Этот объект включает в себя: <br>\n",
    "* Определение функции ОДУ (`crnn!`), которая описывает изменение переменных во времени. <br>\n",
    "* Начальные условия (`u0`), задающие начальное состояние системы. <br>\n",
    "* Интервал времени для решения (`tspan`). <br>\n",
    "* Параметры точности решения (абсолютная и относительная ошибки). <br>\n",
    "* Временные точки, в которых необходимо сохранить решение (`saveat=tsteps`). <br>\n",
    "Решение задачи: После создания объекта `prob` его можно передать в численный решатель, например, с помощью функции `solve`, чтобы найти решение системы дифференциальных уравнений. Решение будет возвращено в виде набора значений переменных в заданные моменты времени. <br>\n",
    "<br>\n",
    "После этого нужно вызывать `solve()`"
   ]
  },
  {
   "cell_type": "code",
   "execution_count": null,
   "metadata": {},
   "outputs": [],
   "source": [
    "function predict_neuralode(u0, p)\n",
    "    global w_in, w_b, w_out = p2vec(p);\n",
    "    pred = clamp.(Array(solve(prob, alg, u0=u0, p=p;\n",
    "                  maxiters=maxiters)), -ub, ub)\n",
    "    return pred\n",
    "end"
   ]
  },
  {
   "cell_type": "markdown",
   "metadata": {},
   "source": [
    "Здесь используется ключевое слово `global`, потому что `w_in`, `w_b`, и `w_out` объявлены как глобальные переменные, и их нужно обновить для последующих вычислений. <br>\n",
    "`pred = clamp.(Array(solve(prob, alg, u0=u0, p=p; maxiters=maxiters)), -ub, ub)` - Это основная строка, в которой происходит решение системы дифференциальных уравнений и получение предсказания. <br>\n",
    "`clamp.` — это поэлементная операция, которая ограничивает значения предсказаний в пределах от `-ub` до `ub`.\n",
    "`maxiters` - макисмальное число операций, которые решатель может выполнить. <br>\n",
    "<br>\n",
    "<br>\n",
    "Эта функция используется для предсказания на основе нейронной ODE-модели, которая основана на дифференциальных уравнениях."
   ]
  },
  {
   "cell_type": "markdown",
   "metadata": {},
   "source": []
  },
  {
   "cell_type": "code",
   "execution_count": null,
   "metadata": {},
   "outputs": [],
   "source": [
    "function display_p(p)\n",
    "    w_in, w_b, w_out = p2vec(p);\n",
    "    println(\"species (column) reaction (row)\")\n",
    "    println()\n",
    "    println(\"w_in\")\n",
    "    show(stdout, \"text/plain\", round.(w_in', digits=3))\n",
    "\n",
    "    println(\"\\nw_b\")\n",
    "    show(stdout, \"text/plain\", round.(exp.(w_b'), digits=3))\n",
    "\n",
    "    println(\"\\nw_out\")\n",
    "    show(stdout, \"text/plain\", round.(w_out', digits=3))\n",
    "    println(\"\\n\\n\")\n",
    "end\n",
    "display_p(p)"
   ]
  },
  {
   "cell_type": "markdown",
   "metadata": {},
   "source": [
    "Итого: функция `display_p` превращает вектор параметров `p` в три компонента: входные веса `w_in`, смещения `w_b` и выходные веса `w_out`"
   ]
  },
  {
   "cell_type": "code",
   "execution_count": null,
   "metadata": {},
   "outputs": [],
   "source": [
    "function loss_neuralode(p, i_exp)\n",
    "    pred = predict_neuralode(u0_list[i_exp, :], p)\n",
    "    loss = mae(ode_data_list[i_exp, :, :] ./ y_std, pred ./ y_std)\n",
    "    return loss\n",
    "end"
   ]
  },
  {
   "cell_type": "markdown",
   "metadata": {},
   "source": [
    "Функция принимает два аргумента:\n",
    "* `p` — вектор параметров нейронной сети (веса и смещения), которые используются для вычисления предсказаний.\n",
    "* `i_exp` — индекс эксперимента, который указывает на конкретный набор данных, с которым будет сравниваться предсказание.\n",
    "\n",
    "`predict_neuralode` - функция, записанная ранее, она возвращает массив педсказанных значений\n",
    "`loss = mae(ode_data_list[i_exp, :, :] ./ y_std, pred ./ y_std)` - вычисляется ошибка между реальными данными `ode_data_list[i_exp, :, :]` и предсказаниями `pred` <br>\n",
    "<br>\n",
    "`y_std` — это стандартное отклонение (нормировочный коэффициент), которое используется для масштабирования как реальных данных, так и предсказаний. <br>\n",
    "`./ y_std` — операция поэлементного деления на стандартное отклонение для нормализации данных (как реальных, так и предсказанных значений). <br>\n",
    "`mae` — это функция для вычисления среднеабсолютной ошибки (Mean Absolute Error), которая измеряет среднее по всем значениям разницу между предсказанными и реальными данными после нормализации. <br>\n",
    "<br>\n",
    "<br>\n",
    "В результате функция вычисляет и возвращает значение ошибки (разницу по mae между реалдьными и предсказанными данными) для конкретного эксперимента"
   ]
  },
  {
   "cell_type": "code",
   "execution_count": null,
   "metadata": {},
   "outputs": [],
   "source": [
    "species = [\"A\", \"B\", \"C\", \"D\", \"E\"];\n",
    "cbi = function (p, i_exp)\n",
    "    ode_data = ode_data_list[i_exp, :, :]\n",
    "    pred = predict_neuralode(u0_list[i_exp, :], p)\n",
    "    list_plt = []\n",
    "    for i in 1:ns                                                      # Цикл по всем участвующим веществам\n",
    "        plt = scatter(tsteps, ode_data[i,:], \n",
    "                      markercolor=:transparent,                        # Цвет маркеров\n",
    "                      label=\"Exp\",                                     # Подпись для легенды\n",
    "                      framestyle=:box)                                 # Стиль рамки графика\n",
    "        plot!(plt, tsteps, pred[i,:], label=\"CRNN-ODE\")                # Добавление на тот же график значений pred[i, :] для i-го компонента\n",
    "        plot!(xlabel=\"Time\", ylabel=\"Concentration of \" * species[i])  # Установка подписей для осей графика:\n",
    "\n",
    "        # Какая-то тема с легендами, не важно\n",
    "        if i==1\n",
    "            plot!(plt, legend=true, framealpha=0)\n",
    "        else\n",
    "            plot!(plt, legend=false)\n",
    "        end\n",
    "\n",
    "        push!(list_plt, plt)                                           # list_plt содержит в себе все графики\n",
    "    end\n",
    "    plt_all = plot(list_plt...)                                        # объединение всех графиков list_plt в один большой график\n",
    "\n",
    "    png(plt_all, string(joinpath(@__DIR__, \"figs\", \"\"), i_exp))        # сохранение объединения графиков в папке в виде .png                                            # Здесь сохраняется png файл\n",
    "    # joinpath самостоятельно определяет относительный путь к папке/файлу\n",
    "    \n",
    "    return false\n",
    "end"
   ]
  },
  {
   "cell_type": "markdown",
   "metadata": {},
   "source": [
    "* `ode_data = ode_data_list[i_exp, :, :]` - Получение реальных данных для эксперимента с индексом `i_exp` из массива `ode_data_list`, который содержит результаты симуляций (реальные данные). Эти данные будут использоваться для построения графиков. <br>\n",
    "* `pred` — предсказания нейронной сети, которые будут отображены на графике для сравнения с реальными данными.\n",
    "* `plt = scatter(tsteps, ode_data[i,:], markercolor=:transparent, label=\"Exp\", framestyle=:box)` - \n",
    "* `ode_data[i,:]` - реальные данные для компонента i (по оси Y) <br>\n",
    "<br>\n",
    "<br>\n",
    "Функция cbi визуализирует результаты экспериментов, сравнивая реальные данные с предсказаниями модели CRNN-ODE. Она создает и сохраняет графики для каждого компонента, выводя на экран данные по концентрациям компонентов с течением времени."
   ]
  },
  {
   "cell_type": "code",
   "execution_count": null,
   "metadata": {},
   "outputs": [],
   "source": [
    "list_loss_train = []\n",
    "list_loss_val = []\n",
    "iter = 1"
   ]
  },
  {
   "cell_type": "code",
   "execution_count": null,
   "metadata": {},
   "outputs": [],
   "source": [
    "cb = function (p, loss_train, loss_val)\n",
    "    global list_loss_train, list_loss_val, iter          # Чтобы изменения этих переменных сохранялись глобально\n",
    "    push!(list_loss_train, loss_train)                   # добавляет значение ошибки на трейне `loss_train` в глобальный список `list_loss_train`\n",
    "    push!(list_loss_val, loss_val)                       # добавляет значение ошибки на валид. выборке `loss_val` в глобальный список `list_loss_val`\n",
    "\n",
    "    if iter % n_plot == 0    \n",
    "        display_p(p)\n",
    "\n",
    "        @printf(\"min loss train: %.4e, and validation: %.4e\\n\", minimum(list_loss_train), minimum(list_loss_val))\n",
    "        # Выводит минимальные значения ошибок на train and validat наборах данных в формате %.4e - експоненциальная форма\n",
    "\n",
    "        list_exp = randperm(n_exp)[1:1];\n",
    "        println(\"update plot for \", list_exp)\n",
    "        for i_exp in list_exp\n",
    "            cbi(p, i_exp)                                                     # строит и сохраняет графики\n",
    "        end\n",
    "\n",
    "        plt_loss = plot(list_loss_train, xscale=:log10, yscale=:log10, label=\"train\");     # создает график ошибок на train наборе\n",
    "        plot!(plt_loss, list_loss_val, label=\"val\");                          # добавляет к этому же графику кривую на validat наборе\n",
    "\n",
    "\n",
    "        png(plt_loss, joinpath(@__DIR__, \"figs\", \"loss.png\"));                # тут сохраняюется loss файл\n",
    "\n",
    "        @save joinpath(@__DIR__, \"checkpoint\", \"mymodel.bson\") p opt list_loss_train list_loss_val iter                 # тут сохраняется bson файл\n",
    "    end\n",
    "\n",
    "    iter += 1;\n",
    "end"
   ]
  },
  {
   "cell_type": "markdown",
   "metadata": {},
   "source": [
    "* `loss_train` — значение ошибки на тренировочном наборе.\n",
    "* `loss_val` — значение ошибки на валидационном наборе.\n",
    "\n",
    "`if iter % n_plot == 0 ` запускается, если текущая итерация `iter` делится на n_plot без остатка. Это частота формирвоания графиков <br><br>\n",
    "`list_exp = randperm(n_exp)[1:1];` генерирует одно \"случайное\" число от `1` до `n_exp-1` <br><br>\n",
    "`@save joinpath(@__DIR__, \"checkpoint\", \"mymodel.bson\") p opt list_loss_train list_loss_val iter` сохраняет текущие параметры модели `p`, оптимизатор `opt`, списки ошибок `list_loss_train`, и `list_loss_val`, а также текущую итерацию `iter` в файл `mymodel.bson`"
   ]
  },
  {
   "cell_type": "code",
   "execution_count": null,
   "metadata": {},
   "outputs": [],
   "source": [
    "if is_restart\n",
    "    #@load \"./checkpoint/mymodel.bson\" p opt list_loss_train list_loss_val iter;                                        Переписываю путь\n",
    "    @load joinpath(@__DIR__, \"checkpoint\", \"mymodel.bson\") p opt list_loss_train list_loss_val iter;                         # тут читается bson файл\n",
    "    iter += 1; \n",
    "end"
   ]
  },
  {
   "cell_type": "code",
   "execution_count": null,
   "metadata": {},
   "outputs": [],
   "source": [
    "i_exp = 1\n",
    "epochs = ProgressBar(iter:n_epoch)                  \n",
    "loss_epoch = zeros(Float32, n_exp);\n",
    "for epoch in epochs                                                # Основной цикл по эпохам\n",
    "    global p\n",
    "    for i_exp in randperm(n_exp_train) \n",
    "\n",
    "        grad = gradient(p) do x\n",
    "            Zygote.forwarddiff(x) do x\n",
    "                loss_neuralode(x, i_exp)\n",
    "            end\n",
    "        end\n",
    "        update!(opt, p, grad[1])                                   # Изменяет параметр p по оптимизатору opt в соответствии с градиентом\n",
    "    end\n",
    "\n",
    "    for i_exp in 1:n_exp                                           # После обновления параметров вычисляется значение ошибки для каждого эксперимента\n",
    "        loss_epoch[i_exp] = loss_neuralode(p, i_exp)\n",
    "    end\n",
    "\n",
    "    loss_train = mean(loss_epoch[1:n_exp_train]);                  # средняя ошибка для тестового набора\n",
    "    loss_val = mean(loss_epoch[n_exp_train + 1:end]);              # средняя ошибка для валидационного набора\n",
    "    set_description(epochs, string(@sprintf(\"Loss train %.4e val %.4e\", loss_train, loss_val)))\n",
    "    cb(p, loss_train, loss_val);\n",
    "end"
   ]
  },
  {
   "cell_type": "code",
   "execution_count": null,
   "metadata": {},
   "outputs": [],
   "source": [
    "for i_exp in randperm(n_exp_train)\n",
    "    println(i_exp)\n",
    "end"
   ]
  },
  {
   "cell_type": "markdown",
   "metadata": {},
   "source": [
    "`epochs = ProgressBar(iter:n_epoch)` создает индикатор прогресса эпох от iter до n_epoch <br>\n",
    "В `loss_epoch` будет храниться значение ошибки для каждого эксперимента <br><br>\n",
    "`for i_exp in randperm(n_exp_train)` начало цикла по перемешанному вектору значений от 1 до `n_exp_train` <br><br>\n",
    "`set_description(epochs, string(@sprintf(\"Loss train %.4e val %.4e\", loss_train, loss_val)))` нужно для динамического обновления прогресс-бара значениями потерь на обучающей и валидационной выборках, чтобы можно было отслеживать их изменения в реальном времени."
   ]
  },
  {
   "cell_type": "markdown",
   "metadata": {},
   "source": []
  },
  {
   "cell_type": "code",
   "execution_count": null,
   "metadata": {},
   "outputs": [],
   "source": [
    "println(predict_neuralode(u0_list[i_exp, :], p))"
   ]
  },
  {
   "cell_type": "code",
   "execution_count": null,
   "metadata": {},
   "outputs": [],
   "source": []
  }
 ],
 "metadata": {
  "kernelspec": {
   "display_name": "Julia 1.6.7",
   "language": "julia",
   "name": "julia-1.6"
  },
  "language_info": {
   "file_extension": ".jl",
   "mimetype": "application/julia",
   "name": "julia",
   "version": "1.6.7"
  }
 },
 "nbformat": 4,
 "nbformat_minor": 2
}
