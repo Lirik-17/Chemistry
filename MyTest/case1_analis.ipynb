{
 "cells": [
  {
   "cell_type": "code",
   "execution_count": 1,
   "metadata": {},
   "outputs": [],
   "source": [
    "using OrdinaryDiffEq, Flux, Optim, Random, Plots\n",
    "using Zygote\n",
    "using ForwardDiff\n",
    "using LinearAlgebra, Statistics\n",
    "using ProgressBars, Printf\n",
    "using Flux.Optimise: update!, ExpDecay\n",
    "using Flux.Losses: mae, mse\n",
    "using BSON: @save, @load\n",
    "using DiffEqBase"
   ]
  },
  {
   "cell_type": "code",
   "execution_count": 2,
   "metadata": {},
   "outputs": [],
   "source": [
    "Random.seed!(1234);"
   ]
  },
  {
   "cell_type": "code",
   "execution_count": 3,
   "metadata": {},
   "outputs": [],
   "source": [
    "# Входные параметры\n",
    "\n",
    "is_restart = false;\n",
    "p_cutoff = 0.0;                                                     # Непонятно для чего\n",
    "n_epoch = 1000;                                                     # Количество эпох. Максимальное\n",
    "n_plot = 100;                                                       # Частота формирования графиков. Через сколько эпох\n",
    "opt = ADAMW(0.001, (0.9, 0.999), 1.f-8);                            # Оптимизатор\n",
    "datasize = 10;                                                     # Размер датасетов?\n",
    "tstep = 1;                                                          # Шаг времени для татасетов? или типа их количество?\n",
    "n_exp_train = 6;                                                   # Размер данных для обучения\n",
    "n_exp_test = 2;                                                    # Размер даных для теста\n",
    "n_exp = n_exp_train + n_exp_test;                                   # Общий размер данных\n",
    "noise = 5.f-2;                                                      # ШУМ\n",
    "ns = 5;                                                             # Количество веществ\n",
    "nr = 4;                                                             # Количество хим. реакций\n",
    "k = Float32[0.1, 0.2, 0.13, 0.3];                                   # константы хим. реакций\n",
    "alg = Tsit5();                                                      # Алгоритм для решения ОДУ?\n",
    "atol = 1e-5;                                                        # Параметр точности для ОДУ\n",
    "rtol = 1e-2;                                                        # Параметр точности для ОДУ\n",
    "\n",
    "maxiters = 10000;                                                   # Не понял для чего нужно\n",
    "\n",
    "lb = 1.f-5;\n",
    "ub = 1.f1;"
   ]
  },
  {
   "cell_type": "code",
   "execution_count": 4,
   "metadata": {},
   "outputs": [],
   "source": [
    "# Generate data sets\n",
    "u0_list = rand(Float32, (n_exp, ns));\n",
    "u0_list[:, 1:2] .+= 2.f-1;\n",
    "u0_list[:, 3:end] .= 0.f0;\n",
    "\n",
    "# В результате u0_list - матрица ns столбцов и n_exp строк, в которой 3+ столбцы нули\n",
    "std_list = [];"
   ]
  },
  {
   "cell_type": "code",
   "execution_count": 8,
   "metadata": {},
   "outputs": [],
   "source": [
    "tspan = Float32[0.0, datasize * tstep];                           # одномерный массив с двумя элементами\n",
    "tsteps = range(tspan[1], tspan[2], length=datasize);              # последовательность от [1] до [2] с шагом length\n",
    "ode_data_list = zeros(Float32, (n_exp, ns, datasize));            # трехмерный массив нулей. Для будущего хранения решений ODE"
   ]
  },
  {
   "cell_type": "code",
   "execution_count": 5,
   "metadata": {},
   "outputs": [
    {
     "data": {
      "text/plain": [
       "max_min (generic function with 1 method)"
      ]
     },
     "metadata": {},
     "output_type": "display_data"
    }
   ],
   "source": [
    "function max_min(ode_data)\n",
    "    return maximum(ode_data, dims=2) .- minimum(ode_data, dims=2) .+ lb\n",
    "end"
   ]
  },
  {
   "cell_type": "code",
   "execution_count": 6,
   "metadata": {},
   "outputs": [
    {
     "data": {
      "text/plain": [
       "trueODEfunc (generic function with 1 method)"
      ]
     },
     "metadata": {},
     "output_type": "display_data"
    }
   ],
   "source": [
    "function trueODEfunc(dydt, y, k, t)\n",
    "    dydt[1] = -2 * k[1] * y[1]^2 - k[2] * y[1];\n",
    "    dydt[2] = k[1] * y[1]^2 - k[4] * y[2] * y[4];\n",
    "    dydt[3] = k[2] * y[1] - k[3] * y[3];\n",
    "    dydt[4] = k[3] * y[3] - k[4] * y[2] * y[4];\n",
    "    dydt[5] = k[4] * y[2] * y[4];\n",
    "end"
   ]
  },
  {
   "cell_type": "code",
   "execution_count": 9,
   "metadata": {},
   "outputs": [],
   "source": [
    "# Дале идет цикл с решением ODE для каждой строки матрицы u0_list.\n",
    "# Решение записывается в std_list\n",
    "\n",
    "for i in 1:n_exp\n",
    "    u0 = u0_list[i, :];\n",
    "    prob_trueode = ODEProblem(trueODEfunc, u0, tspan, k);\n",
    "    ode_data = Array(solve(prob_trueode, alg, saveat=tsteps));\n",
    "    ode_data += randn(size(ode_data)) .* ode_data .* noise\n",
    "    ode_data_list[i, :, :] = ode_data\n",
    "    push!(std_list, max_min(ode_data));\n",
    "end\n",
    "\n",
    "y_std = maximum(hcat(std_list...), dims=2);"
   ]
  },
  {
   "cell_type": "code",
   "execution_count": 11,
   "metadata": {},
   "outputs": [
    {
     "data": {
      "text/plain": [
       "5×1 Matrix{Float64}:\n",
       " 1.0237581515985312\n",
       " 0.2684495853180975\n",
       " 0.3611537485786531\n",
       " 0.23642580353061332\n",
       " 0.22721576840975688"
      ]
     },
     "metadata": {},
     "output_type": "display_data"
    }
   ],
   "source": [
    "display(y_std)"
   ]
  },
  {
   "cell_type": "code",
   "execution_count": null,
   "metadata": {},
   "outputs": [],
   "source": []
  }
 ],
 "metadata": {
  "kernelspec": {
   "display_name": "Julia 1.6.7",
   "language": "julia",
   "name": "julia-1.6"
  },
  "language_info": {
   "file_extension": ".jl",
   "mimetype": "application/julia",
   "name": "julia",
   "version": "1.6.7"
  }
 },
 "nbformat": 4,
 "nbformat_minor": 2
}
