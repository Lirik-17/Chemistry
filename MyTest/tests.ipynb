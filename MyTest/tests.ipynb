{
 "cells": [
  {
   "cell_type": "code",
   "execution_count": 3,
   "metadata": {},
   "outputs": [],
   "source": [
    "import torch\n",
    "import torch.optim as optim\n",
    "import numpy as np\n",
    "from torchdiffeq import odeint\n",
    "import matplotlib.pyplot as plt"
   ]
  },
  {
   "cell_type": "code",
   "execution_count": 4,
   "metadata": {},
   "outputs": [
    {
     "name": "stdout",
     "output_type": "stream",
     "text": [
      "tensor(0.1000)\n"
     ]
    }
   ],
   "source": [
    "k = torch.tensor([0.1, 0.2, 0.13, 0.3], dtype=torch.float32)\n",
    "print(k[0])"
   ]
  },
  {
   "cell_type": "code",
   "execution_count": 1,
   "metadata": {},
   "outputs": [
    {
     "name": "stdout",
     "output_type": "stream",
     "text": [
      "[0, 3, 2, 0]\n"
     ]
    }
   ],
   "source": [
    "def find_all(target, symbol):\n",
    "    index = []\n",
    "    i = 0\n",
    "    while i < len(target):\n",
    "        d\n",
    "    \n",
    "    return index.append(target.find(symbol))\n",
    "\n",
    "# считываем данные\n",
    "s = input()\n",
    "char = input()\n",
    "\n",
    "# вызываем функцию\n",
    "print(find_all(s, char))"
   ]
  },
  {
   "cell_type": "code",
   "execution_count": 2,
   "metadata": {},
   "outputs": [
    {
     "name": "stdout",
     "output_type": "stream",
     "text": [
      "None\n"
     ]
    }
   ],
   "source": [
    "def merge(list1, list2):\n",
    "    list3 = (list1 + list2).sort()\n",
    "    return list3\n",
    "\n",
    "# считываем данные\n",
    "numbers1 = [int(c) for c in input().split()]\n",
    "numbers2 = [int(c) for c in input().split()]\n",
    "\n",
    "# вызываем функцию\n",
    "print(merge(numbers1, numbers2))"
   ]
  },
  {
   "cell_type": "code",
   "execution_count": 11,
   "metadata": {},
   "outputs": [],
   "source": [
    "def quick_merge(list1, list2):\n",
    "    extend = []\n",
    "    \n",
    "    p1, p2 = 0, 0\n",
    "    while p1 < len(list1) and p2 < len(list2):\n",
    "        if list1[p1] < list2[p2]:\n",
    "            extend.append(list1[p1])\n",
    "            p1 += 1\n",
    "        else:\n",
    "            extend.append(list2[p2])\n",
    "            p2 += 1\n",
    "\n",
    "    if p1 != len(list1):\n",
    "        extend += list1[p1:]\n",
    "    else:\n",
    "        extend += list2[p2:]\n",
    "        \n",
    "    return extend"
   ]
  },
  {
   "cell_type": "code",
   "execution_count": 13,
   "metadata": {},
   "outputs": [
    {
     "name": "stdout",
     "output_type": "stream",
     "text": [
      "[1, 2, 3, 4, 4, 4, 5, 5, 6]\n",
      "[3, 3, 4, 4, 4, 4, 5, 8, 8, 8, 9]\n",
      "[1, 2, 3, 3, 3, 4, 4, 4, 4, 4, 4, 4, 5, 5, 5, 6, 8, 8, 8, 9]\n"
     ]
    }
   ],
   "source": [
    "mumu = [int(c) for c in input().split()]\n",
    "blart = [int(c) for c in input().split()]\n",
    "# mumu = [3, 10, 11, 12, 47, 57, 58, 63, 77, 79, 80, 95]\n",
    "# blart = [0, 11, 12, 20, 24, 26, 47, 48, 53, 65, 70, 81, 84, 84, 90]\n",
    "\n",
    "print(mumu)\n",
    "print(blart)\n",
    "\n",
    "print(quick_merge(mumu, blart))"
   ]
  },
  {
   "cell_type": "code",
   "execution_count": 15,
   "metadata": {},
   "outputs": [
    {
     "name": "stdout",
     "output_type": "stream",
     "text": [
      "F\n",
      "F\n"
     ]
    }
   ],
   "source": [
    "print('F')\n",
    "\n",
    "for i in range(2, 1):\n",
    "    print('werewty')\n",
    "\n",
    "print('F')"
   ]
  },
  {
   "cell_type": "code",
   "execution_count": 17,
   "metadata": {},
   "outputs": [
    {
     "name": "stdout",
     "output_type": "stream",
     "text": [
      "11\n"
     ]
    }
   ],
   "source": [
    "# объявление функции\n",
    "def get_next_prime(num):\n",
    "    num += 1\n",
    "    \n",
    "    for i in range(2, num):\n",
    "        if num % i == 0:\n",
    "            return get_next_prime(num)\n",
    "        \n",
    "    return num\n",
    "\n",
    "# считываем данные\n",
    "n = int(input())\n",
    "\n",
    "# вызываем функцию\n",
    "print(get_next_prime(n))"
   ]
  },
  {
   "cell_type": "code",
   "execution_count": 10,
   "metadata": {},
   "outputs": [
    {
     "name": "stdout",
     "output_type": "stream",
     "text": [
      "False\n"
     ]
    }
   ],
   "source": [
    "# объявление функции\n",
    "def is_one_away(word1, word2):\n",
    "    if len(word1) != len(word2):\n",
    "        return False\n",
    "    \n",
    "    count = 0\n",
    "    for i in range(len(word1)):\n",
    "        if word1[i] != word2[i]:\n",
    "            count += 1\n",
    "        if count == 2:\n",
    "            return False\n",
    "    \n",
    "    \n",
    "    return True\n",
    "\n",
    "# считываем данные\n",
    "txt1 = input()\n",
    "txt2 = input()\n",
    "\n",
    "# вызываем функцию\n",
    "print(is_one_away(txt1, txt2))"
   ]
  },
  {
   "cell_type": "code",
   "execution_count": 17,
   "metadata": {},
   "outputs": [
    {
     "name": "stdout",
     "output_type": "stream",
     "text": [
      "['15551', '7', '290']\n",
      "15551\n"
     ]
    }
   ],
   "source": [
    "password = '15551:7:290'\n",
    "\n",
    "numbers = password.split(':')\n",
    "\n",
    "print(numbers)\n",
    "print(int(numbers[0]))"
   ]
  },
  {
   "cell_type": "code",
   "execution_count": 47,
   "metadata": {},
   "outputs": [],
   "source": [
    "def searchInsert(nums: list[int], target: int) -> int:\n",
    "        \n",
    "    left = 0\n",
    "    right = len(nums) - 1\n",
    "\n",
    "    while left <= right:\n",
    "        mid = (right + left) // 2\n",
    "\n",
    "        if nums[mid] == target:\n",
    "            return mid\n",
    "        elif nums[mid] > target:\n",
    "            right = mid - 1\n",
    "        else:\n",
    "            left = mid + 1\n",
    "            \n",
    "    return left"
   ]
  },
  {
   "cell_type": "code",
   "execution_count": 49,
   "metadata": {},
   "outputs": [
    {
     "name": "stdout",
     "output_type": "stream",
     "text": [
      "4\n"
     ]
    }
   ],
   "source": [
    "nums = [1,3,5,6]\n",
    "target = 7\n",
    "\n",
    "print(searchInsert(nums, target))"
   ]
  },
  {
   "cell_type": "code",
   "execution_count": null,
   "metadata": {},
   "outputs": [],
   "source": []
  }
 ],
 "metadata": {
  "kernelspec": {
   "display_name": "ml_training",
   "language": "python",
   "name": "python3"
  },
  "language_info": {
   "codemirror_mode": {
    "name": "ipython",
    "version": 3
   },
   "file_extension": ".py",
   "mimetype": "text/x-python",
   "name": "python",
   "nbconvert_exporter": "python",
   "pygments_lexer": "ipython3",
   "version": "3.11.5"
  }
 },
 "nbformat": 4,
 "nbformat_minor": 2
}
