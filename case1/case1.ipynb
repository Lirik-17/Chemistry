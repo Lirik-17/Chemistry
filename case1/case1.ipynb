{
 "cells": [
  {
   "cell_type": "markdown",
   "metadata": {},
   "source": [
    "#### Закинуть сюда код case1.py, разбить функции на блоки"
   ]
  },
  {
   "cell_type": "code",
   "execution_count": 1,
   "metadata": {},
   "outputs": [],
   "source": [
    "globals().clear()  # Для очистки всех переменных"
   ]
  },
  {
   "cell_type": "code",
   "execution_count": 2,
   "metadata": {},
   "outputs": [
    {
     "data": {
      "text/plain": [
       "'c:\\\\Users\\\\GeraschenkoKM\\\\Desktop\\\\Petrochemistry\\\\My work CRNN\\\\Chemistry\\\\case1'"
      ]
     },
     "execution_count": 2,
     "metadata": {},
     "output_type": "execute_result"
    }
   ],
   "source": [
    "# import os\n",
    "\n",
    "# os.getcwd()       # Полный путь распололжение файла\n",
    "# os.listdir()      # Cсписок файлов и папок, содержащихся в той же папке, что и данный код"
   ]
  },
  {
   "cell_type": "code",
   "execution_count": 15,
   "metadata": {},
   "outputs": [],
   "source": [
    "import torch\n",
    "import torch.nn as nn\n",
    "import torch.optim as optim\n",
    "from torchdiffeq import odeint\n",
    "import numpy as np\n",
    "import matplotlib.pyplot as plt\n",
    "import random"
   ]
  },
  {
   "cell_type": "code",
   "execution_count": 16,
   "metadata": {},
   "outputs": [],
   "source": [
    "# Установка генератора случайных чисел\n",
    "torch.manual_seed(1234)\n",
    "np.random.seed(1234)\n",
    "random.seed(1234)\n",
    "\n",
    "# Можно потом поменять, или вообще убрать сиды"
   ]
  },
  {
   "cell_type": "code",
   "execution_count": 17,
   "metadata": {},
   "outputs": [],
   "source": [
    "# Гиперпараметры\n",
    "is_restart = False\n",
    "p_cutoff = 0.0\n",
    "n_epoch = 10000\n",
    "n_plot = 100\n",
    "lr = 0.001\n",
    "datasize = 100\n",
    "tstep = 1\n",
    "n_exp_train = 30\n",
    "n_exp_test = 10\n",
    "n_exp = n_exp_train + n_exp_test\n",
    "noise = 0.05\n",
    "ns = 5\n",
    "nr = 4\n",
    "k = torch.FloatTensor([0.1, 0.2, 0.13, 0.3])\n",
    "maxiters = 10000\n",
    "\n",
    "lb = 1e-5\n",
    "ub = 1.0"
   ]
  },
  {
   "cell_type": "code",
   "execution_count": 7,
   "metadata": {},
   "outputs": [],
   "source": [
    "# Определение истинной функции ОДУ\n",
    "def true_ODEfunc(t, y, k):\n",
    "    dydt = torch.zeros_like(y)\n",
    "    dydt[0] = -2 * k[0] * y[0]**2 - k[1] * y[0]\n",
    "    dydt[1] = k[0] * y[0]**2 - k[3] * y[1] * y[4]\n",
    "    dydt[2] = k[1] * y[0] - k[2] * y[2]\n",
    "    dydt[3] = k[2] * y[2] - k[3] * y[1] * y[4]\n",
    "    dydt[4] = k[3] * y[1] * y[4]\n",
    "    return dydt"
   ]
  },
  {
   "cell_type": "code",
   "execution_count": 8,
   "metadata": {},
   "outputs": [],
   "source": [
    "# Генерация начальных условий и данных с шумом\n",
    "u0_list = torch.rand(n_exp, ns)\n",
    "u0_list[:, :2] += 0.5\n",
    "u0_list[:, 2:] = 0.0\n",
    "tspan = [0.0, datasize * tstep]\n",
    "tsteps = torch.linspace(tspan[0], tspan[1], datasize)\n",
    "\n",
    "ode_data_list = []\n",
    "std_list = []"
   ]
  },
  {
   "cell_type": "code",
   "execution_count": null,
   "metadata": {},
   "outputs": [],
   "source": [
    "def max_min(ode_data):\n",
    "    return ode_data.max(dim=1)[0] - ode_data.min(dim=1)[0] + lb"
   ]
  },
  {
   "cell_type": "code",
   "execution_count": null,
   "metadata": {},
   "outputs": [],
   "source": [
    "for i in range(n_exp):\n",
    "    u0 = u0_list[i, :]\n",
    "    solution = odeint(true_ODEfunc, u0, tsteps, method='dopri5', options={'rtol': 1e-5, 'atol': 1e-2}, args=(k,))\n",
    "    solution += torch.randn_like(solution) * solution * noise\n",
    "    ode_data_list.append(solution)\n",
    "    std_list.append(max_min(solution))"
   ]
  },
  {
   "cell_type": "code",
   "execution_count": null,
   "metadata": {},
   "outputs": [],
   "source": [
    "y_std = torch.stack(std_list).max(dim=0)[0]\n",
    "\n",
    "# Преобразование параметров\n",
    "b0 = -10.0"
   ]
  },
  {
   "cell_type": "code",
   "execution_count": null,
   "metadata": {},
   "outputs": [],
   "source": [
    "def p2vec(p):\n",
    "    w_b = p[:nr] + b0\n",
    "    w_out = p[nr:].view(ns, nr)\n",
    "    w_in = torch.clamp(-w_out, 0, 2.5)\n",
    "    return w_in, w_b, w_out"
   ]
  },
  {
   "cell_type": "code",
   "execution_count": null,
   "metadata": {},
   "outputs": [],
   "source": [
    "# Определение функции нейросетевой модели\n",
    "class CRNNODEFunc(nn.Module):\n",
    "    def forward(self, t, u, p):\n",
    "        w_in, w_b, w_out = p2vec(p)\n",
    "        w_in_x = torch.matmul(torch.log(torch.clamp(u, lb, ub)), w_in.t())\n",
    "        return torch.matmul(torch.exp(w_in_x + w_b), w_out)"
   ]
  },
  {
   "cell_type": "code",
   "execution_count": null,
   "metadata": {},
   "outputs": [],
   "source": [
    "# Предсказание с использованием CRNN ODE\n",
    "def predict_neuralode(u0, p):\n",
    "    crnn_func = CRNNODEFunc()\n",
    "    pred = odeint(crnn_func, u0, tsteps, method='dopri5', options={'rtol': 1e-5, 'atol': 1e-2}, args=(p,))\n",
    "    return torch.clamp(pred, -ub, ub)"
   ]
  },
  {
   "cell_type": "code",
   "execution_count": null,
   "metadata": {},
   "outputs": [],
   "source": [
    "# Функция потерь (MAE)\n",
    "def loss_neuralode(p, i_exp):\n",
    "    pred = predict_neuralode(u0_list[i_exp], p)\n",
    "    loss = torch.mean(torch.abs(ode_data_list[i_exp] / y_std - pred / y_std))\n",
    "    return loss"
   ]
  },
  {
   "cell_type": "code",
   "execution_count": null,
   "metadata": {},
   "outputs": [],
   "source": [
    "# Обратный вызов для визуализации\n",
    "species = [\"A\", \"B\", \"C\", \"D\", \"E\"]\n",
    "\n",
    "def cbi(p, i_exp):\n",
    "    ode_data = ode_data_list[i_exp]\n",
    "    pred = predict_neuralode(u0_list[i_exp], p).detach()\n",
    "    for i in range(ns):\n",
    "        plt.figure()\n",
    "        plt.scatter(tsteps.numpy(), ode_data[:, i].numpy(), label=\"Exp\", alpha=0.5)\n",
    "        plt.plot(tsteps.numpy(), pred[:, i].numpy(), label=\"CRNN-ODE\")\n",
    "        plt.xlabel(\"Time\")\n",
    "        plt.ylabel(f\"Concentration of {species[i]}\")\n",
    "        plt.legend()\n",
    "        plt.show()"
   ]
  },
  {
   "cell_type": "code",
   "execution_count": null,
   "metadata": {},
   "outputs": [],
   "source": [
    "# Оптимизация модели\n",
    "p = torch.randn(nr * (ns + 1), requires_grad=True)\n",
    "optimizer = optim.AdamW([p], lr=lr)\n",
    "\n",
    "list_loss_train = []\n",
    "list_loss_val = []\n",
    "iter = 1"
   ]
  },
  {
   "cell_type": "code",
   "execution_count": null,
   "metadata": {},
   "outputs": [],
   "source": [
    "# Цикл обучения\n",
    "for epoch in range(n_epoch):\n",
    "    for i_exp in random.sample(range(n_exp_train), n_exp_train):\n",
    "        optimizer.zero_grad()\n",
    "        loss = loss_neuralode(p, i_exp)\n",
    "        loss.backward()\n",
    "        optimizer.step()\n",
    "\n",
    "    # Вычисление ошибок для всех экспериментов\n",
    "    loss_epoch = torch.zeros(n_exp)\n",
    "    for i_exp in range(n_exp):\n",
    "        loss_epoch[i_exp] = loss_neuralode(p, i_exp)\n",
    "\n",
    "    loss_train = loss_epoch[:n_exp_train].mean()\n",
    "    loss_val = loss_epoch[n_exp_train:].mean()\n",
    "\n",
    "    list_loss_train.append(loss_train.item())\n",
    "    list_loss_val.append(loss_val.item())\n",
    "\n",
    "    if epoch % n_plot == 0:\n",
    "        print(f\"Epoch {epoch}, Loss train {loss_train:.4e}, Loss val {loss_val:.4e}\")\n",
    "        cbi(p, random.choice(range(n_exp)))"
   ]
  },
  {
   "cell_type": "code",
   "execution_count": null,
   "metadata": {},
   "outputs": [],
   "source": [
    "# Сохранение графиков потерь\n",
    "plt.plot(list_loss_train, label=\"train\", color=\"blue\")\n",
    "plt.plot(list_loss_val, label=\"val\", color=\"red\")\n",
    "plt.xscale(\"log\")\n",
    "plt.yscale(\"log\")\n",
    "plt.xlabel(\"Epochs\")\n",
    "plt.ylabel(\"Loss\")\n",
    "plt.legend()\n",
    "plt.show()"
   ]
  }
 ],
 "metadata": {
  "kernelspec": {
   "display_name": "ml_training",
   "language": "python",
   "name": "python3"
  },
  "language_info": {
   "codemirror_mode": {
    "name": "ipython",
    "version": 3
   },
   "file_extension": ".py",
   "mimetype": "text/x-python",
   "name": "python",
   "nbconvert_exporter": "python",
   "pygments_lexer": "ipython3",
   "version": "3.11.5"
  }
 },
 "nbformat": 4,
 "nbformat_minor": 2
}
