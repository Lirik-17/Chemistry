{
 "cells": [
  {
   "cell_type": "code",
   "execution_count": 1,
   "metadata": {},
   "outputs": [],
   "source": [
    "import math\n",
    "import random"
   ]
  },
  {
   "cell_type": "code",
   "execution_count": 9,
   "metadata": {},
   "outputs": [
    {
     "name": "stdout",
     "output_type": "stream",
     "text": [
      "[0.0019455479834616476, 0.21515206493647393, 2.252436033004698, 2.8178617050730648e-05, 6.370049508190755e-05]\n"
     ]
    }
   ],
   "source": [
    "n = 6     #веществ\n",
    "m = 5     #реакций\n",
    "\n",
    "k0 = [100000000, 90000000, 85000000, 110000000, 95000000]\n",
    "# Ea = [70000, 60000, 55000, 80000, 75000]\n",
    "Ea = [57000, 47000, 42000, 66000, 64000]\n",
    "# Ea = [7000, 6000, 5500, 8000, 7500]\n",
    "T = 250\n",
    "k = [0 for _ in range(m)]\n",
    "\n",
    "for i in range(len(k)):                                                               # pylint: disable=consider-using-enumerate\n",
    "    k[i] = k0[i]*math.exp(-Ea[i]/(8.314*T))*(T**0.5)\n",
    "\n",
    "print(k)"
   ]
  },
  {
   "cell_type": "code",
   "execution_count": 6,
   "metadata": {},
   "outputs": [
    {
     "data": {
      "text/plain": [
       "0.03446491851539536"
      ]
     },
     "execution_count": 6,
     "metadata": {},
     "output_type": "execute_result"
    }
   ],
   "source": [
    "math.exp(-Ea[0]/(8.314*T))"
   ]
  }
 ],
 "metadata": {
  "kernelspec": {
   "display_name": "ml_training",
   "language": "python",
   "name": "python3"
  },
  "language_info": {
   "codemirror_mode": {
    "name": "ipython",
    "version": 3
   },
   "file_extension": ".py",
   "mimetype": "text/x-python",
   "name": "python",
   "nbconvert_exporter": "python",
   "pygments_lexer": "ipython3",
   "version": "3.11.9"
  }
 },
 "nbformat": 4,
 "nbformat_minor": 2
}
