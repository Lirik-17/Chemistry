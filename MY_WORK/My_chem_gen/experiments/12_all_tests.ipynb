{
 "cells": [
  {
   "cell_type": "code",
   "execution_count": 1,
   "metadata": {},
   "outputs": [],
   "source": [
    "import pandas as pd\n",
    "import numpy as np"
   ]
  },
  {
   "cell_type": "code",
   "execution_count": 50,
   "metadata": {},
   "outputs": [
    {
     "name": "stdout",
     "output_type": "stream",
     "text": [
      "[[1 0 0 0 0]\n",
      " [2 1 0 0 0]\n",
      " [0 0 1 0 0]]\n"
     ]
    }
   ],
   "source": [
    "MATR = np.array([\n",
    "    [-1, 1, 0, 0, 0],\n",
    "    [-2,-1, 1, 1, 0],\n",
    "    [ 0, 0,-1, 0, 1]\n",
    "])\n",
    "\n",
    "MATR_PLUS = np.where(MATR < 0, -MATR, 0)\n",
    "print(MATR_PLUS)"
   ]
  },
  {
   "cell_type": "code",
   "execution_count": 51,
   "metadata": {},
   "outputs": [
    {
     "data": {
      "text/plain": [
       "array([[-0.375     ,  0.625     , -0.04166667, -0.08333333, -0.04166667],\n",
       "       [-0.25      , -0.25      ,  0.08333333,  0.16666667,  0.08333333],\n",
       "       [-0.125     , -0.125     , -0.45833333,  0.08333333,  0.54166667]])"
      ]
     },
     "execution_count": 51,
     "metadata": {},
     "output_type": "execute_result"
    }
   ],
   "source": [
    "np.linalg.inv(MATR @ MATR.T) @ MATR"
   ]
  },
  {
   "cell_type": "code",
   "execution_count": 52,
   "metadata": {},
   "outputs": [
    {
     "name": "stdout",
     "output_type": "stream",
     "text": [
      "[ 2 12  4]\n"
     ]
    }
   ],
   "source": [
    "P = np.prod(np.array([2,3,4,5,1]) ** MATR_PLUS, axis=1)\n",
    "\n",
    "print(P)    # Получаем численные значения скоростей рекаций (без констант k) в момент времени"
   ]
  },
  {
   "cell_type": "code",
   "execution_count": 53,
   "metadata": {},
   "outputs": [
    {
     "name": "stdout",
     "output_type": "stream",
     "text": [
      "[[-1 -2  0]\n",
      " [ 1 -1  0]\n",
      " [ 0  1 -1]\n",
      " [ 0  1  0]\n",
      " [ 0  0  1]]\n"
     ]
    }
   ],
   "source": [
    "print(MATR.T)"
   ]
  },
  {
   "cell_type": "code",
   "execution_count": 56,
   "metadata": {},
   "outputs": [
    {
     "name": "stdout",
     "output_type": "stream",
     "text": [
      "[[ -2 -24   0]\n",
      " [  2 -12   0]\n",
      " [  0  12  -4]\n",
      " [  0  12   0]\n",
      " [  0   0   4]]\n"
     ]
    }
   ],
   "source": [
    "A = MATR.T * P\n",
    "print(A)"
   ]
  },
  {
   "cell_type": "code",
   "execution_count": 59,
   "metadata": {},
   "outputs": [
    {
     "data": {
      "text/plain": [
       "array([[-0.1875    ,  0.3125    , -0.02083333, -0.04166667, -0.02083333],\n",
       "       [-0.02083333, -0.02083333,  0.00694444,  0.01388889,  0.00694444],\n",
       "       [-0.03125   , -0.03125   , -0.11458333,  0.02083333,  0.13541667]])"
      ]
     },
     "execution_count": 59,
     "metadata": {},
     "output_type": "execute_result"
    }
   ],
   "source": [
    "np.linalg.inv(A.T @ A) @ A.T"
   ]
  },
  {
   "cell_type": "code",
   "execution_count": null,
   "metadata": {},
   "outputs": [],
   "source": []
  }
 ],
 "metadata": {
  "kernelspec": {
   "display_name": "ml_training",
   "language": "python",
   "name": "python3"
  },
  "language_info": {
   "codemirror_mode": {
    "name": "ipython",
    "version": 3
   },
   "file_extension": ".py",
   "mimetype": "text/x-python",
   "name": "python",
   "nbconvert_exporter": "python",
   "pygments_lexer": "ipython3",
   "version": "3.11.9"
  }
 },
 "nbformat": 4,
 "nbformat_minor": 2
}
