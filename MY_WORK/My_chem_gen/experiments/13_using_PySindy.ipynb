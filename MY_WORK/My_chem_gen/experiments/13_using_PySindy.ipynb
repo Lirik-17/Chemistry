{
 "cells": [
  {
   "cell_type": "code",
   "execution_count": 18,
   "metadata": {},
   "outputs": [
    {
     "ename": "ImportError",
     "evalue": "cannot import name 'FunctionLibrary' from 'pysindy.feature_library' (c:\\Users\\GeraschenkoKM\\Desktop\\My_ML_education\\ml_training\\Lib\\site-packages\\pysindy\\feature_library\\__init__.py)",
     "output_type": "error",
     "traceback": [
      "\u001b[1;31m---------------------------------------------------------------------------\u001b[0m",
      "\u001b[1;31mImportError\u001b[0m                               Traceback (most recent call last)",
      "Cell \u001b[1;32mIn[18], line 7\u001b[0m\n\u001b[0;32m      5\u001b[0m \u001b[38;5;28;01mimport\u001b[39;00m \u001b[38;5;21;01mmatplotlib\u001b[39;00m\u001b[38;5;21;01m.\u001b[39;00m\u001b[38;5;21;01mpyplot\u001b[39;00m \u001b[38;5;28;01mas\u001b[39;00m \u001b[38;5;21;01mplt\u001b[39;00m\n\u001b[0;32m      6\u001b[0m \u001b[38;5;28;01mimport\u001b[39;00m \u001b[38;5;21;01mmath\u001b[39;00m\n\u001b[1;32m----> 7\u001b[0m \u001b[38;5;28;01mfrom\u001b[39;00m \u001b[38;5;21;01mpysindy\u001b[39;00m\u001b[38;5;21;01m.\u001b[39;00m\u001b[38;5;21;01mfeature_library\u001b[39;00m \u001b[38;5;28;01mimport\u001b[39;00m FunctionLibrary\n",
      "\u001b[1;31mImportError\u001b[0m: cannot import name 'FunctionLibrary' from 'pysindy.feature_library' (c:\\Users\\GeraschenkoKM\\Desktop\\My_ML_education\\ml_training\\Lib\\site-packages\\pysindy\\feature_library\\__init__.py)"
     ]
    }
   ],
   "source": [
    "import numpy as np\n",
    "import pandas as pd\n",
    "import pysindy as ps\n",
    "from sklearn.metrics import r2_score as sklearn_r2\n",
    "import matplotlib.pyplot as plt\n",
    "import math\n",
    "from pysindy.feature_library import FunctionLibrary"
   ]
  },
  {
   "cell_type": "code",
   "execution_count": 11,
   "metadata": {},
   "outputs": [
    {
     "name": "stdout",
     "output_type": "stream",
     "text": [
      "121\n",
      "121\n"
     ]
    }
   ],
   "source": [
    "# Загрузка данных\n",
    "data = pd.read_csv('generate_concentrations_1.csv')\n",
    "t = np.arange(0, 60.5, 0.5)\n",
    "C = data.values\n",
    "\n",
    "print(len(C))\n",
    "print(len(t))"
   ]
  },
  {
   "cell_type": "code",
   "execution_count": 19,
   "metadata": {},
   "outputs": [
    {
     "ename": "AttributeError",
     "evalue": "module 'numpy' has no attribute 'math'",
     "output_type": "error",
     "traceback": [
      "\u001b[1;31m---------------------------------------------------------------------------\u001b[0m",
      "\u001b[1;31mAttributeError\u001b[0m                            Traceback (most recent call last)",
      "Cell \u001b[1;32mIn[19], line 21\u001b[0m\n\u001b[0;32m     14\u001b[0m model \u001b[38;5;241m=\u001b[39m ps\u001b[38;5;241m.\u001b[39mSINDy(\n\u001b[0;32m     15\u001b[0m     differentiation_method\u001b[38;5;241m=\u001b[39mdifferentiation_method,\n\u001b[0;32m     16\u001b[0m     feature_library\u001b[38;5;241m=\u001b[39mfeature_library,\n\u001b[0;32m     17\u001b[0m     optimizer\u001b[38;5;241m=\u001b[39moptimizer\n\u001b[0;32m     18\u001b[0m )\n\u001b[0;32m     20\u001b[0m \u001b[38;5;66;03m# Обучение модели\u001b[39;00m\n\u001b[1;32m---> 21\u001b[0m \u001b[43mmodel\u001b[49m\u001b[38;5;241;43m.\u001b[39;49m\u001b[43mfit\u001b[49m\u001b[43m(\u001b[49m\u001b[43mC\u001b[49m\u001b[43m,\u001b[49m\u001b[43m \u001b[49m\u001b[43mt\u001b[49m\u001b[38;5;241;43m=\u001b[39;49m\u001b[43mt\u001b[49m\u001b[43m)\u001b[49m\n\u001b[0;32m     23\u001b[0m \u001b[38;5;66;03m# Вывод уравнений\u001b[39;00m\n\u001b[0;32m     24\u001b[0m \u001b[38;5;28mprint\u001b[39m(\u001b[38;5;124m\"\u001b[39m\u001b[38;5;124mНайденные уравнения:\u001b[39m\u001b[38;5;124m\"\u001b[39m)\n",
      "File \u001b[1;32mc:\\Users\\GeraschenkoKM\\Desktop\\My_ML_education\\ml_training\\Lib\\site-packages\\pysindy\\pysindy.py:343\u001b[0m, in \u001b[0;36mSINDy.fit\u001b[1;34m(self, x, t, x_dot, u, multiple_trajectories, unbias, quiet, ensemble, library_ensemble, replace, n_candidates_to_drop, n_subset, n_models, ensemble_aggregator)\u001b[0m\n\u001b[0;32m    337\u001b[0m     u \u001b[38;5;241m=\u001b[39m validate_control_variables(\n\u001b[0;32m    338\u001b[0m         x,\n\u001b[0;32m    339\u001b[0m         u,\n\u001b[0;32m    340\u001b[0m         trim_last_point\u001b[38;5;241m=\u001b[39m(\u001b[38;5;28mself\u001b[39m\u001b[38;5;241m.\u001b[39mdiscrete_time \u001b[38;5;129;01mand\u001b[39;00m x_dot \u001b[38;5;129;01mis\u001b[39;00m \u001b[38;5;28;01mNone\u001b[39;00m),\n\u001b[0;32m    341\u001b[0m     )\n\u001b[0;32m    342\u001b[0m     \u001b[38;5;28mself\u001b[39m\u001b[38;5;241m.\u001b[39mn_control_features_ \u001b[38;5;241m=\u001b[39m u[\u001b[38;5;241m0\u001b[39m]\u001b[38;5;241m.\u001b[39mshape[u[\u001b[38;5;241m0\u001b[39m]\u001b[38;5;241m.\u001b[39max_coord]\n\u001b[1;32m--> 343\u001b[0m x, x_dot \u001b[38;5;241m=\u001b[39m \u001b[38;5;28;43mself\u001b[39;49m\u001b[38;5;241;43m.\u001b[39;49m\u001b[43m_process_multiple_trajectories\u001b[49m\u001b[43m(\u001b[49m\u001b[43mx\u001b[49m\u001b[43m,\u001b[49m\u001b[43m \u001b[49m\u001b[43mt\u001b[49m\u001b[43m,\u001b[49m\u001b[43m \u001b[49m\u001b[43mx_dot\u001b[49m\u001b[43m)\u001b[49m\n\u001b[0;32m    345\u001b[0m \u001b[38;5;66;03m# Set ensemble variables\u001b[39;00m\n\u001b[0;32m    346\u001b[0m \u001b[38;5;28mself\u001b[39m\u001b[38;5;241m.\u001b[39mensemble \u001b[38;5;241m=\u001b[39m ensemble\n",
      "File \u001b[1;32mc:\\Users\\GeraschenkoKM\\Desktop\\My_ML_education\\ml_training\\Lib\\site-packages\\pysindy\\pysindy.py:665\u001b[0m, in \u001b[0;36mSINDy._process_multiple_trajectories\u001b[1;34m(self, x, t, x_dot)\u001b[0m\n\u001b[0;32m    663\u001b[0m         x \u001b[38;5;241m=\u001b[39m [xi[:\u001b[38;5;241m-\u001b[39m\u001b[38;5;241m1\u001b[39m] \u001b[38;5;28;01mfor\u001b[39;00m xi \u001b[38;5;129;01min\u001b[39;00m x]\n\u001b[0;32m    664\u001b[0m     \u001b[38;5;28;01melse\u001b[39;00m:\n\u001b[1;32m--> 665\u001b[0m         x_dot \u001b[38;5;241m=\u001b[39m \u001b[43m[\u001b[49m\n\u001b[0;32m    666\u001b[0m \u001b[43m            \u001b[49m\u001b[38;5;28;43mself\u001b[39;49m\u001b[38;5;241;43m.\u001b[39;49m\u001b[43mfeature_library\u001b[49m\u001b[38;5;241;43m.\u001b[39;49m\u001b[43mcalc_trajectory\u001b[49m\u001b[43m(\u001b[49m\n\u001b[0;32m    667\u001b[0m \u001b[43m                \u001b[49m\u001b[38;5;28;43mself\u001b[39;49m\u001b[38;5;241;43m.\u001b[39;49m\u001b[43mdifferentiation_method\u001b[49m\u001b[43m,\u001b[49m\u001b[43m \u001b[49m\u001b[43mxi\u001b[49m\u001b[43m,\u001b[49m\u001b[43m \u001b[49m\u001b[43mti\u001b[49m\n\u001b[0;32m    668\u001b[0m \u001b[43m            \u001b[49m\u001b[43m)\u001b[49m\n\u001b[0;32m    669\u001b[0m \u001b[43m            \u001b[49m\u001b[38;5;28;43;01mfor\u001b[39;49;00m\u001b[43m \u001b[49m\u001b[43mxi\u001b[49m\u001b[43m,\u001b[49m\u001b[43m \u001b[49m\u001b[43mti\u001b[49m\u001b[43m \u001b[49m\u001b[38;5;129;43;01min\u001b[39;49;00m\u001b[43m \u001b[49m\u001b[43m_zip_like_sequence\u001b[49m\u001b[43m(\u001b[49m\u001b[43mx\u001b[49m\u001b[43m,\u001b[49m\u001b[43m \u001b[49m\u001b[43mt\u001b[49m\u001b[43m)\u001b[49m\n\u001b[0;32m    670\u001b[0m \u001b[43m        \u001b[49m\u001b[43m]\u001b[49m\n\u001b[0;32m    671\u001b[0m \u001b[38;5;28;01mreturn\u001b[39;00m x, x_dot\n",
      "File \u001b[1;32mc:\\Users\\GeraschenkoKM\\Desktop\\My_ML_education\\ml_training\\Lib\\site-packages\\pysindy\\pysindy.py:666\u001b[0m, in \u001b[0;36m<listcomp>\u001b[1;34m(.0)\u001b[0m\n\u001b[0;32m    663\u001b[0m         x \u001b[38;5;241m=\u001b[39m [xi[:\u001b[38;5;241m-\u001b[39m\u001b[38;5;241m1\u001b[39m] \u001b[38;5;28;01mfor\u001b[39;00m xi \u001b[38;5;129;01min\u001b[39;00m x]\n\u001b[0;32m    664\u001b[0m     \u001b[38;5;28;01melse\u001b[39;00m:\n\u001b[0;32m    665\u001b[0m         x_dot \u001b[38;5;241m=\u001b[39m [\n\u001b[1;32m--> 666\u001b[0m             \u001b[38;5;28;43mself\u001b[39;49m\u001b[38;5;241;43m.\u001b[39;49m\u001b[43mfeature_library\u001b[49m\u001b[38;5;241;43m.\u001b[39;49m\u001b[43mcalc_trajectory\u001b[49m\u001b[43m(\u001b[49m\n\u001b[0;32m    667\u001b[0m \u001b[43m                \u001b[49m\u001b[38;5;28;43mself\u001b[39;49m\u001b[38;5;241;43m.\u001b[39;49m\u001b[43mdifferentiation_method\u001b[49m\u001b[43m,\u001b[49m\u001b[43m \u001b[49m\u001b[43mxi\u001b[49m\u001b[43m,\u001b[49m\u001b[43m \u001b[49m\u001b[43mti\u001b[49m\n\u001b[0;32m    668\u001b[0m \u001b[43m            \u001b[49m\u001b[43m)\u001b[49m\n\u001b[0;32m    669\u001b[0m             \u001b[38;5;28;01mfor\u001b[39;00m xi, ti \u001b[38;5;129;01min\u001b[39;00m _zip_like_sequence(x, t)\n\u001b[0;32m    670\u001b[0m         ]\n\u001b[0;32m    671\u001b[0m \u001b[38;5;28;01mreturn\u001b[39;00m x, x_dot\n",
      "File \u001b[1;32mc:\\Users\\GeraschenkoKM\\Desktop\\My_ML_education\\ml_training\\Lib\\site-packages\\pysindy\\feature_library\\base.py:87\u001b[0m, in \u001b[0;36mBaseFeatureLibrary.calc_trajectory\u001b[1;34m(self, diff_method, x, t)\u001b[0m\n\u001b[0;32m     85\u001b[0m \u001b[38;5;28;01mdef\u001b[39;00m \u001b[38;5;21mcalc_trajectory\u001b[39m(\u001b[38;5;28mself\u001b[39m, diff_method, x, t):\n\u001b[0;32m     86\u001b[0m     axes \u001b[38;5;241m=\u001b[39m x\u001b[38;5;241m.\u001b[39m\u001b[38;5;18m__dict__\u001b[39m\n\u001b[1;32m---> 87\u001b[0m     x_dot \u001b[38;5;241m=\u001b[39m \u001b[43mdiff_method\u001b[49m\u001b[43m(\u001b[49m\u001b[43mx\u001b[49m\u001b[43m,\u001b[49m\u001b[43m \u001b[49m\u001b[43mt\u001b[49m\u001b[38;5;241;43m=\u001b[39;49m\u001b[43mt\u001b[49m\u001b[43m)\u001b[49m\n\u001b[0;32m     88\u001b[0m     \u001b[38;5;28;01mreturn\u001b[39;00m AxesArray(x_dot, axes)\n",
      "File \u001b[1;32mc:\\Users\\GeraschenkoKM\\Desktop\\My_ML_education\\ml_training\\Lib\\site-packages\\pysindy\\differentiation\\base.py:49\u001b[0m, in \u001b[0;36mBaseDifferentiation.__call__\u001b[1;34m(self, x, t)\u001b[0m\n\u001b[0;32m     48\u001b[0m \u001b[38;5;28;01mdef\u001b[39;00m \u001b[38;5;21m__call__\u001b[39m(\u001b[38;5;28mself\u001b[39m, x, t\u001b[38;5;241m=\u001b[39m\u001b[38;5;241m1\u001b[39m):\n\u001b[1;32m---> 49\u001b[0m     \u001b[38;5;28;01mreturn\u001b[39;00m \u001b[38;5;28;43mself\u001b[39;49m\u001b[38;5;241;43m.\u001b[39;49m\u001b[43m_differentiate\u001b[49m\u001b[43m(\u001b[49m\u001b[43mx\u001b[49m\u001b[43m,\u001b[49m\u001b[43m \u001b[49m\u001b[43mt\u001b[49m\u001b[43m)\u001b[49m\n",
      "File \u001b[1;32mc:\\Users\\GeraschenkoKM\\Desktop\\My_ML_education\\ml_training\\Lib\\site-packages\\pysindy\\differentiation\\smoothed_finite_difference.py:60\u001b[0m, in \u001b[0;36mSmoothedFiniteDifference._differentiate\u001b[1;34m(self, x, t)\u001b[0m\n\u001b[0;32m     58\u001b[0m \u001b[38;5;250m\u001b[39m\u001b[38;5;124;03m\"\"\"Apply finite difference method after smoothing.\"\"\"\u001b[39;00m\n\u001b[0;32m     59\u001b[0m x \u001b[38;5;241m=\u001b[39m \u001b[38;5;28mself\u001b[39m\u001b[38;5;241m.\u001b[39msmoother(x, \u001b[38;5;241m*\u001b[39m\u001b[38;5;241m*\u001b[39m\u001b[38;5;28mself\u001b[39m\u001b[38;5;241m.\u001b[39msmoother_kws)\n\u001b[1;32m---> 60\u001b[0m \u001b[38;5;28;01mreturn\u001b[39;00m \u001b[38;5;28;43msuper\u001b[39;49m\u001b[43m(\u001b[49m\u001b[43mSmoothedFiniteDifference\u001b[49m\u001b[43m,\u001b[49m\u001b[43m \u001b[49m\u001b[38;5;28;43mself\u001b[39;49m\u001b[43m)\u001b[49m\u001b[38;5;241;43m.\u001b[39;49m\u001b[43m_differentiate\u001b[49m\u001b[43m(\u001b[49m\u001b[43mx\u001b[49m\u001b[43m,\u001b[49m\u001b[43m \u001b[49m\u001b[43mt\u001b[49m\u001b[43m)\u001b[49m\n",
      "File \u001b[1;32mc:\\Users\\GeraschenkoKM\\Desktop\\My_ML_education\\ml_training\\Lib\\site-packages\\pysindy\\differentiation\\finite_difference.py:251\u001b[0m, in \u001b[0;36mFiniteDifference._differentiate\u001b[1;34m(self, x, t)\u001b[0m\n\u001b[0;32m    249\u001b[0m             interior \u001b[38;5;241m=\u001b[39m interior \u001b[38;5;241m+\u001b[39m x[\u001b[38;5;28mtuple\u001b[39m(s)] \u001b[38;5;241m*\u001b[39m coeffs[i]\n\u001b[0;32m    250\u001b[0m \u001b[38;5;28;01melse\u001b[39;00m:\n\u001b[1;32m--> 251\u001b[0m     coeffs \u001b[38;5;241m=\u001b[39m \u001b[38;5;28;43mself\u001b[39;49m\u001b[38;5;241;43m.\u001b[39;49m\u001b[43m_coefficients\u001b[49m\u001b[43m(\u001b[49m\u001b[43mt\u001b[49m\u001b[43m)\u001b[49m\n\u001b[0;32m    252\u001b[0m     interior \u001b[38;5;241m=\u001b[39m \u001b[38;5;28mself\u001b[39m\u001b[38;5;241m.\u001b[39m_accumulate(coeffs, x)\n\u001b[0;32m    253\u001b[0m s[\u001b[38;5;28mself\u001b[39m\u001b[38;5;241m.\u001b[39maxis] \u001b[38;5;241m=\u001b[39m \u001b[38;5;28mslice\u001b[39m((\u001b[38;5;28mself\u001b[39m\u001b[38;5;241m.\u001b[39mn_stencil \u001b[38;5;241m-\u001b[39m \u001b[38;5;241m1\u001b[39m) \u001b[38;5;241m/\u001b[39m\u001b[38;5;241m/\u001b[39m \u001b[38;5;241m2\u001b[39m, \u001b[38;5;241m-\u001b[39m(\u001b[38;5;28mself\u001b[39m\u001b[38;5;241m.\u001b[39mn_stencil \u001b[38;5;241m-\u001b[39m \u001b[38;5;241m1\u001b[39m) \u001b[38;5;241m/\u001b[39m\u001b[38;5;241m/\u001b[39m \u001b[38;5;241m2\u001b[39m)\n",
      "File \u001b[1;32mc:\\Users\\GeraschenkoKM\\Desktop\\My_ML_education\\ml_training\\Lib\\site-packages\\pysindy\\differentiation\\finite_difference.py:101\u001b[0m, in \u001b[0;36mFiniteDifference._coefficients\u001b[1;34m(self, t)\u001b[0m\n\u001b[0;32m     93\u001b[0m matrices \u001b[38;5;241m=\u001b[39m (\n\u001b[0;32m     94\u001b[0m     \u001b[38;5;28mself\u001b[39m\u001b[38;5;241m.\u001b[39mstencil\n\u001b[0;32m     95\u001b[0m     \u001b[38;5;241m-\u001b[39m t[\n\u001b[1;32m   (...)\u001b[0m\n\u001b[0;32m     98\u001b[0m     ]\n\u001b[0;32m     99\u001b[0m )[:, np\u001b[38;5;241m.\u001b[39mnewaxis, :] \u001b[38;5;241m*\u001b[39m\u001b[38;5;241m*\u001b[39m pows\n\u001b[0;32m    100\u001b[0m b \u001b[38;5;241m=\u001b[39m np\u001b[38;5;241m.\u001b[39mzeros(\u001b[38;5;28mself\u001b[39m\u001b[38;5;241m.\u001b[39mn_stencil)\n\u001b[1;32m--> 101\u001b[0m b[\u001b[38;5;28mself\u001b[39m\u001b[38;5;241m.\u001b[39md] \u001b[38;5;241m=\u001b[39m \u001b[43mnp\u001b[49m\u001b[38;5;241;43m.\u001b[39;49m\u001b[43mmath\u001b[49m\u001b[38;5;241m.\u001b[39mfactorial(\u001b[38;5;28mself\u001b[39m\u001b[38;5;241m.\u001b[39md)\n\u001b[0;32m    102\u001b[0m \u001b[38;5;28;01mreturn\u001b[39;00m np\u001b[38;5;241m.\u001b[39mlinalg\u001b[38;5;241m.\u001b[39msolve(matrices, [b])\n",
      "File \u001b[1;32mc:\\Users\\GeraschenkoKM\\Desktop\\My_ML_education\\ml_training\\Lib\\site-packages\\numpy\\__init__.py:427\u001b[0m, in \u001b[0;36m__getattr__\u001b[1;34m(attr)\u001b[0m\n\u001b[0;32m    424\u001b[0m     \u001b[38;5;28;01mimport\u001b[39;00m \u001b[38;5;21;01mnumpy\u001b[39;00m\u001b[38;5;21;01m.\u001b[39;00m\u001b[38;5;21;01mchar\u001b[39;00m \u001b[38;5;28;01mas\u001b[39;00m \u001b[38;5;21;01mchar\u001b[39;00m\n\u001b[0;32m    425\u001b[0m     \u001b[38;5;28;01mreturn\u001b[39;00m char\u001b[38;5;241m.\u001b[39mchararray\n\u001b[1;32m--> 427\u001b[0m \u001b[38;5;28;01mraise\u001b[39;00m \u001b[38;5;167;01mAttributeError\u001b[39;00m(\u001b[38;5;124m\"\u001b[39m\u001b[38;5;124mmodule \u001b[39m\u001b[38;5;132;01m{!r}\u001b[39;00m\u001b[38;5;124m has no attribute \u001b[39m\u001b[38;5;124m\"\u001b[39m\n\u001b[0;32m    428\u001b[0m                      \u001b[38;5;124m\"\u001b[39m\u001b[38;5;132;01m{!r}\u001b[39;00m\u001b[38;5;124m\"\u001b[39m\u001b[38;5;241m.\u001b[39mformat(\u001b[38;5;18m__name__\u001b[39m, attr))\n",
      "\u001b[1;31mAttributeError\u001b[0m: module 'numpy' has no attribute 'math'"
     ]
    }
   ],
   "source": [
    "# Загрузка данных\n",
    "data = pd.read_csv('generate_concentrations_1.csv')\n",
    "t = np.arange(0, 60.5, 0.5)\n",
    "C = data.values\n",
    "\n",
    "# Настройка PySINDy\n",
    "poly_library = ps.PolynomialLibrary(degree=2)  # Полиномы до 2-й степени\n",
    "# custom_library = ps.FunctionLibrary(library_functions=[math.tanh], function_names=[\"tanh\"])\n",
    "# feature_library = ps.GeneralizedLibrary([poly_library, custom_library])\n",
    "feature_library = poly_library  # Без tanh\n",
    "differentiation_method = ps.SmoothedFiniteDifference()\n",
    "optimizer = ps.STLSQ(threshold=0.05)  # Порог для разреженности\n",
    "\n",
    "model = ps.SINDy(\n",
    "    differentiation_method=differentiation_method,\n",
    "    feature_library=feature_library,\n",
    "    optimizer=optimizer\n",
    ")\n",
    "\n",
    "# Обучение модели\n",
    "model.fit(C, t=t)\n",
    "\n",
    "# Вывод уравнений\n",
    "print(\"Найденные уравнения:\")\n",
    "model.print()\n",
    "\n",
    "# Оценка качества на производных\n",
    "r2_deriv = model.score(C, t=t)\n",
    "print(f\"R^2 производных: {r2_deriv}\")\n",
    "\n",
    "# Симуляция траекторий\n",
    "C_sim = model.simulate(C[0], t)\n",
    "\n",
    "# Оценка R^2 для траекторий\n",
    "r2_traj = sklearn_r2(C, C_sim, multioutput='raw_values')\n",
    "print(f\"R^2 траекторий по столбцам (C0, C1, C2, C3, C4): {r2_traj}\")\n",
    "\n",
    "# Визуализация\n",
    "fig, axs = plt.subplots(5, 1, figsize=(10, 15), sharex=True)\n",
    "labels = ['C0', 'C1', 'C2', 'C3', 'C4']\n",
    "for i in range(5):\n",
    "    axs[i].plot(t, C[:, i], 'b.', label=f'{labels[i]} данные')\n",
    "    axs[i].plot(t, C_sim[:, i], 'r-', label=f'{labels[i]} аппроксимация')\n",
    "    axs[i].set_ylabel(labels[i])\n",
    "    axs[i].legend()\n",
    "axs[-1].set_xlabel('Время (с)')\n",
    "plt.tight_layout()\n",
    "plt.show()"
   ]
  },
  {
   "cell_type": "code",
   "execution_count": 15,
   "metadata": {},
   "outputs": [
    {
     "name": "stdout",
     "output_type": "stream",
     "text": [
      "Name: pysindy\n",
      "Version: 1.7.5\n",
      "Summary: Sparse Identification of Nonlinear Dynamics\n",
      "Home-page: https://github.com/dynamicslab/pysindy\n",
      "Author: Brian de Silva, Kathleen Champion, Markus Quade, Alan Kaptanoglu\n",
      "Author-email: bdesilva@uw.edu, kpchamp@uw.edu, info@markusqua.de, akaptano@uw.edu\n",
      "License: MIT\n",
      "Location: c:\\Users\\GeraschenkoKM\\Desktop\\My_ML_education\\ml_training\\Lib\\site-packages\n",
      "Requires: cmake, derivative, matplotlib, numpy, scikit-learn, scipy, scs\n",
      "Required-by: \n",
      "Note: you may need to restart the kernel to use updated packages.\n"
     ]
    }
   ],
   "source": [
    "pip show pysindy"
   ]
  },
  {
   "cell_type": "code",
   "execution_count": null,
   "metadata": {},
   "outputs": [],
   "source": []
  }
 ],
 "metadata": {
  "kernelspec": {
   "display_name": "ml_training",
   "language": "python",
   "name": "python3"
  },
  "language_info": {
   "codemirror_mode": {
    "name": "ipython",
    "version": 3
   },
   "file_extension": ".py",
   "mimetype": "text/x-python",
   "name": "python",
   "nbconvert_exporter": "python",
   "pygments_lexer": "ipython3",
   "version": "3.11.9"
  }
 },
 "nbformat": 4,
 "nbformat_minor": 2
}
